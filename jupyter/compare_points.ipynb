{
 "cells": [
  {
   "cell_type": "code",
   "execution_count": 1,
   "metadata": {},
   "outputs": [],
   "source": [
    "# from sympy import *\n",
    "import numpy as np\n",
    "import shapely.wkt\n",
    "\n",
    "from functions import find_z\n",
    "\n",
    "%load_ext autoreload\n",
    "%autoreload 2"
   ]
  },
  {
   "cell_type": "code",
   "execution_count": 2,
   "metadata": {},
   "outputs": [],
   "source": [
    "\n",
    "# random area: \n",
    "# wkt = 'POLYGON((117813.6 487266.1,117813.6 487370.7,117942.1 487370.7,117942.1 487266.1,117813.6 487266.1))'\n",
    "\n",
    "# small area: \n",
    "# wkt = 'POLYGON((117813 487266,117813 487270,117815 487270,117815 487266,117813 487266))' # small! \n",
    "\n",
    "# portal:\n",
    "# wkt = 'POLYGON((118032.6 488782.8,118032.6 488793.5,118078.8 488793.5,118078.8 488782.8,118032.6 488782.8))' # portal\n",
    "\n",
    "# portal zonder palen\n",
    "# wkt = 'POLYGON((118037.0 488782.8,118037.0 488793.5,118072.0 488793.5,118072.0 488782.8,118037.0 488782.8))' # portal zonder palen\n",
    "\n",
    "# brug\n",
    "wkt = 'POLYGON((117875.3 487304,117875.3 487329,117906.1 487329,117906.1 487304,117875.3 487304))' # brug\n",
    "\n",
    "# stukje brug\n",
    "# wkt = 'POLYGON((117890.1 487311,117890.1 487312.5,117892 487312.5,117892 487311,117890.1 487311))' # brug\n",
    "\n",
    "\n"
   ]
  },
  {
   "cell_type": "code",
   "execution_count": 3,
   "metadata": {},
   "outputs": [],
   "source": [
    "# bij \"brug\"\n",
    "# wkt = 'POLYGON((117875.3 487304,117875.3 487329,117906.1 487329,117906.1 487304,117875.3 487304))' # brug\n",
    "\n",
    "models = {'2018-1': [[1.18046284e+05, 4.88788266e+05, 7.32619906e+00], # point\n",
    "                      [-0.01907583, -0.00597143 , 0.99980021]],         # normal\n",
    "          '2019-1': [[1.18043622e+05, 4.88788105e+05, 7.28090065e+00], \n",
    "                      [-0.0191627,  -0.00399964 , 0.99980838]],\n",
    "          '2018-2': [[1.18067443e+05, 4.88788088e+05, 7.32255846e+00], \n",
    "                      [ 0.01882162 ,-0.00257657,0.99981954]],\n",
    "          '2019-2': [[1.18067129e+05, 4.88788024e+05, 7.33989558e+00], \n",
    "                      [-0.01913283 , 0.00412501 ,-0.99980844]]}"
   ]
  },
  {
   "cell_type": "code",
   "execution_count": 4,
   "metadata": {},
   "outputs": [],
   "source": [
    "\n",
    "p1, p2, p3 = [1.18046284e+05, 4.88788266e+05, 7.32619906e+00]\n",
    "r, s, t = v1, v2, v3 = [-0.01907583, -0.00597143 , 0.99980021]\n",
    "\n",
    "normal = [v1,v2,v3] \n",
    "point = [p1,p2,p3]\n"
   ]
  },
  {
   "cell_type": "code",
   "execution_count": 5,
   "metadata": {},
   "outputs": [
    {
     "data": {
      "text/plain": [
       "-5164.296829030884"
      ]
     },
     "execution_count": 5,
     "metadata": {},
     "output_type": "execute_result"
    }
   ],
   "source": [
    "point = models['2018-1'][0]\n",
    "normal = models['2018-1'][1]\n",
    "x,y = 0,1\n",
    "find_z(point, normal, x, y)"
   ]
  },
  {
   "cell_type": "code",
   "execution_count": 12,
   "metadata": {},
   "outputs": [
    {
     "name": "stdout",
     "output_type": "stream",
     "text": [
      "                                   2018-1  \\\n",
      "0    [118046.284, 488788.266, 7.32619906]   \n",
      "1  [-0.01907583, -0.00597143, 0.99980021]   \n",
      "\n",
      "                                  2019-1  \\\n",
      "0   [118043.622, 488788.105, 7.28090065]   \n",
      "1  [-0.0191627, -0.00399964, 0.99980838]   \n",
      "\n",
      "                                  2018-2  \\\n",
      "0   [118067.443, 488788.088, 7.32255846]   \n",
      "1  [0.01882162, -0.00257657, 0.99981954]   \n",
      "\n",
      "                                   2019-2  \n",
      "0    [118067.129, 488788.024, 7.33989558]  \n",
      "1  [-0.01913283, 0.00412501, -0.99980844]  \n"
     ]
    }
   ],
   "source": [
    "import pandas as pd\n",
    "print(pd.DataFrame(data = models))"
   ]
  },
  {
   "cell_type": "code",
   "execution_count": 56,
   "metadata": {
    "scrolled": true
   },
   "outputs": [
    {
     "ename": "TypeError",
     "evalue": "'Point' object is not iterable",
     "output_type": "error",
     "traceback": [
      "\u001b[0;31m---------------------------------------------------------------------------\u001b[0m",
      "\u001b[0;31mTypeError\u001b[0m                                 Traceback (most recent call last)",
      "\u001b[0;32m<ipython-input-56-b8cade4236a7>\u001b[0m in \u001b[0;36m<module>\u001b[0;34m\u001b[0m\n\u001b[1;32m     12\u001b[0m     \u001b[0mnormal\u001b[0m\u001b[0;34m[\u001b[0m\u001b[0;36m2\u001b[0m\u001b[0;34m]\u001b[0m \u001b[0;34m=\u001b[0m \u001b[0mabs\u001b[0m\u001b[0;34m(\u001b[0m\u001b[0mnormal\u001b[0m\u001b[0;34m[\u001b[0m\u001b[0;36m2\u001b[0m\u001b[0;34m]\u001b[0m\u001b[0;34m)\u001b[0m\u001b[0;34m\u001b[0m\u001b[0;34m\u001b[0m\u001b[0m\n\u001b[1;32m     13\u001b[0m \u001b[0;34m\u001b[0m\u001b[0m\n\u001b[0;32m---> 14\u001b[0;31m     \u001b[0;32mfor\u001b[0m \u001b[0mi\u001b[0m\u001b[0;34m,\u001b[0m \u001b[0mcoords\u001b[0m \u001b[0;32min\u001b[0m \u001b[0menumerate\u001b[0m\u001b[0;34m(\u001b[0m\u001b[0mlist\u001b[0m\u001b[0;34m(\u001b[0m\u001b[0mpolygon\u001b[0m\u001b[0;34m.\u001b[0m\u001b[0mexterior\u001b[0m\u001b[0;34m.\u001b[0m\u001b[0mcentroid\u001b[0m\u001b[0;34m)\u001b[0m\u001b[0;34m)\u001b[0m\u001b[0;34m:\u001b[0m\u001b[0;34m\u001b[0m\u001b[0;34m\u001b[0m\u001b[0m\n\u001b[0m\u001b[1;32m     15\u001b[0m         \u001b[0;32mif\u001b[0m \u001b[0mi\u001b[0m \u001b[0;34m==\u001b[0m \u001b[0;36m4\u001b[0m\u001b[0;34m:\u001b[0m\u001b[0;34m\u001b[0m\u001b[0;34m\u001b[0m\u001b[0m\n\u001b[1;32m     16\u001b[0m             \u001b[0;32mbreak\u001b[0m\u001b[0;34m\u001b[0m\u001b[0;34m\u001b[0m\u001b[0m\n",
      "\u001b[0;31mTypeError\u001b[0m: 'Point' object is not iterable"
     ]
    }
   ],
   "source": [
    "polygon = shapely.wkt.loads(wkt)\n",
    "bottom_left, bottom_right, upper_right, upper_left, _ = list(polygon.exterior.coords)\n",
    "# corners = ['bottom_left', 'bottom_right', 'upper_right', 'upper_left']\n",
    "corners = ['bl','br','ur','ul']\n",
    "\n",
    "z_vals = {}\n",
    "\n",
    "for key in models:\n",
    "    point = models[key][0]\n",
    "    normal = models[key][1]\n",
    "    \n",
    "    normal[2] = abs(normal[2])\n",
    "    \n",
    "    for i, coords in enumerate(list(polygon.exterior.coords)):\n",
    "        if i == 4:\n",
    "            break\n",
    "\n",
    "        x,y = coords\n",
    "        z = find_z(point, normal, x, y)\n",
    "        \n",
    "        z_vals[f'{key}-{corners[i]}'] = (x,y,z)\n",
    "        print(f'{key} \\t {corners[i]}\\t {x}\\t {y}\\t {z} \\t{normal[2]}')\n",
    "    \n",
    "    "
   ]
  },
  {
   "cell_type": "code",
   "execution_count": 46,
   "metadata": {},
   "outputs": [],
   "source": [
    "z_diffs = {}\n",
    "\n",
    "# 2018\n",
    "for corner in corners:\n",
    "    key1 = f'2018-1-{corner}'\n",
    "    key2 = f'2018-2-{corner}'\n",
    "    \n",
    "    z_diffs[f'{corner}_2018'] = z_vals[key2][2] - z_vals[key1][2]\n",
    "    \n",
    "    \n",
    "# 2018\n",
    "for corner in corners:\n",
    "    key1 = f'2019-1-{corner}'\n",
    "    key2 = f'2019-2-{corner}'\n",
    "    \n",
    "    z_diffs[f'{corner}_2019'] = z_vals[key2][2] - z_vals[key1][2]\n",
    "    "
   ]
  },
  {
   "cell_type": "code",
   "execution_count": 55,
   "metadata": {},
   "outputs": [
    {
     "name": "stdout",
     "output_type": "stream",
     "text": [
      "corner \t 2018 \t 2019 \t difference\n",
      "bl \t 11.916183022200023 \t 11.673992354465172 \t 0.24219066773485132\n",
      "br \t 11.831293316733843 \t 11.470837182059745 \t 0.36045613467409865\n",
      "ur \t 10.663829816938497 \t 11.469916974365308 \t -0.8060871574268109\n",
      "ul \t 10.748719522404675 \t 11.673072146770737 \t -0.9243526243660618\n",
      "-0.4621763121830309\n"
     ]
    }
   ],
   "source": [
    "difference = 0\n",
    "print(f'corner \\t 2018 \\t 2019 \\t difference')\n",
    "for corner in corners:\n",
    "    key1 = f'{corner}_2018'\n",
    "    key2 = f'{corner}_2019'\n",
    "    difference = z_diffs[key1] - z_diffs[key2]\n",
    "    print(f'{corner} \\t {z_diffs[key1]} \\t {z_diffs[key2]} \\t {difference}')\n",
    "    \n",
    "    difference += difference\n",
    "    \n",
    "print(difference / 4 )\n",
    "    "
   ]
  },
  {
   "cell_type": "code",
   "execution_count": 23,
   "metadata": {},
   "outputs": [
    {
     "data": {
      "text/plain": [
       "7.326199059999593"
      ]
     },
     "execution_count": 23,
     "metadata": {},
     "output_type": "execute_result"
    }
   ],
   "source": [
    "\n",
    "find_z(models['2018-1'][0], models['2018-1'][1], \n",
    "       models['2018-1'][0][0], models['2018-1'][0][1])  # 7.2809006499996"
   ]
  },
  {
   "cell_type": "code",
   "execution_count": 22,
   "metadata": {},
   "outputs": [
    {
     "data": {
      "text/plain": [
       "[[118043.622, 488788.105, 7.28090065], [-0.0191627, -0.00399964, 0.99980838]]"
      ]
     },
     "execution_count": 22,
     "metadata": {},
     "output_type": "execute_result"
    }
   ],
   "source": [
    "models['2019-1']"
   ]
  },
  {
   "cell_type": "code",
   "execution_count": 32,
   "metadata": {},
   "outputs": [
    {
     "data": {
      "text/plain": [
       "3"
      ]
     },
     "execution_count": 32,
     "metadata": {},
     "output_type": "execute_result"
    }
   ],
   "source": [
    "abs(-3)"
   ]
  },
  {
   "cell_type": "code",
   "execution_count": null,
   "metadata": {},
   "outputs": [],
   "source": []
  }
 ],
 "metadata": {
  "kernelspec": {
   "display_name": "Python 3",
   "language": "python",
   "name": "python3"
  },
  "language_info": {
   "codemirror_mode": {
    "name": "ipython",
    "version": 3
   },
   "file_extension": ".py",
   "mimetype": "text/x-python",
   "name": "python",
   "nbconvert_exporter": "python",
   "pygments_lexer": "ipython3",
   "version": "3.6.8"
  }
 },
 "nbformat": 4,
 "nbformat_minor": 2
}
