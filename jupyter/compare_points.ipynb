{
 "cells": [
  {
   "cell_type": "code",
   "execution_count": 15,
   "metadata": {},
   "outputs": [],
   "source": [
    "from sympy import *\n",
    "import numpy as np\n",
    "\n",
    "from functions import find_z"
   ]
  },
  {
   "cell_type": "code",
   "execution_count": 14,
   "metadata": {},
   "outputs": [],
   "source": [
    "models = {'2018-1': [[1.18046284e+05, 4.88788266e+05, 7.32619906e+00], # point\n",
    "                      [-0.01907583, -0.00597143 , 0.99980021]],         # normal\n",
    "          '2019-1': [[1.18043622e+05, 4.88788105e+05, 7.28090065e+00], \n",
    "                      [-0.0191627,  -0.00399964 , 0.99980838]],\n",
    "          '2018-2': [[1.18067443e+05, 4.88788088e+05, 7.32255846e+00], \n",
    "                      [ 0.01882162 ,-0.00257657,0.99981954]],\n",
    "          '2019-2': [[1.18067129e+05, 4.88788024e+05, 7.33989558e+00], \n",
    "                      [-0.01913283 , 0.00412501 ,-0.99980844]]}"
   ]
  },
  {
   "cell_type": "code",
   "execution_count": 8,
   "metadata": {},
   "outputs": [],
   "source": [
    "p1, p2, p3 = [1.18046284e+05, 4.88788266e+05, 7.32619906e+00]\n",
    "r, s, t = v1, v2, v3 = [-0.01907583, -0.00597143 , 0.99980021]\n",
    "\n",
    "normal = [v1,v2,v3] \n",
    "point = [p1,p2,p3]\n"
   ]
  },
  {
   "cell_type": "code",
   "execution_count": 9,
   "metadata": {},
   "outputs": [
    {
     "data": {
      "text/plain": [
       "-5163.271025597411"
      ]
     },
     "execution_count": 9,
     "metadata": {},
     "output_type": "execute_result"
    }
   ],
   "source": [
    "normal[0] * point[0] + normal[1] * point[1] + normal[2] * point[2]"
   ]
  },
  {
   "cell_type": "code",
   "execution_count": 11,
   "metadata": {},
   "outputs": [
    {
     "data": {
      "text/plain": [
       "-5163.271025597411"
      ]
     },
     "execution_count": 11,
     "metadata": {},
     "output_type": "execute_result"
    }
   ],
   "source": [
    "import numpy as np\n",
    "np.dot(normal, point)"
   ]
  },
  {
   "cell_type": "code",
   "execution_count": null,
   "metadata": {},
   "outputs": [],
   "source": [
    "point = models['2018-1'][0]\n",
    "normal = models['2018-1'][1]\n",
    "\n",
    "find_z(point, normal, )"
   ]
  }
 ],
 "metadata": {
  "kernelspec": {
   "display_name": "Python 3",
   "language": "python",
   "name": "python3"
  },
  "language_info": {
   "codemirror_mode": {
    "name": "ipython",
    "version": 3
   },
   "file_extension": ".py",
   "mimetype": "text/x-python",
   "name": "python",
   "nbconvert_exporter": "python",
   "pygments_lexer": "ipython3",
   "version": "3.7.3"
  }
 },
 "nbformat": 4,
 "nbformat_minor": 2
}
