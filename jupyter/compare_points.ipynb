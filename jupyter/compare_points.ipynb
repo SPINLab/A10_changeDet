{
 "cells": [
  {
   "cell_type": "code",
   "execution_count": 94,
   "metadata": {},
   "outputs": [],
   "source": [
    "# from sympy import *\n",
    "import numpy as np\n",
    "import shapely.wkt\n",
    "\n",
    "from functions import find_z\n",
    "\n",
    "# %load_ext autoreload\n",
    "%autoreload 2"
   ]
  },
  {
   "cell_type": "code",
   "execution_count": 95,
   "metadata": {},
   "outputs": [],
   "source": [
    "\n",
    "# random area: \n",
    "# wkt = 'POLYGON((117813.6 487266.1,117813.6 487370.7,117942.1 487370.7,117942.1 487266.1,117813.6 487266.1))'\n",
    "\n",
    "# small area: \n",
    "# wkt = 'POLYGON((117813 487266,117813 487270,117815 487270,117815 487266,117813 487266))' # small! \n",
    "\n",
    "# portal:\n",
    "# wkt = 'POLYGON((118032.6 488782.8,118032.6 488793.5,118078.8 488793.5,118078.8 488782.8,118032.6 488782.8))' # portal\n",
    "\n",
    "# portal zonder palen\n",
    "# wkt = 'POLYGON((118037.0 488782.8,118037.0 488793.5,118072.0 488793.5,118072.0 488782.8,118037.0 488782.8))' # portal zonder palen\n",
    "\n",
    "# brug\n",
    "wkt = 'POLYGON((117875.3 487304,117875.3 487329,117906.1 487329,117906.1 487304,117875.3 487304))' # brug\n",
    "\n",
    "# stukje brug\n",
    "# wkt = 'POLYGON((117890.1 487311,117890.1 487312.5,117892 487312.5,117892 487311,117890.1 487311))' # brug\n",
    "\n",
    "\n"
   ]
  },
  {
   "cell_type": "code",
   "execution_count": 96,
   "metadata": {},
   "outputs": [],
   "source": [
    "# bij \"brug\"\n",
    "# wkt = 'POLYGON((117875.3 487304,117875.3 487329,117906.1 487329,117906.1 487304,117875.3 487304))' # brug\n",
    "\n",
    "models = {'2018-1': [[1.18046284e+05, 4.88788266e+05, 7.32619906e+00], # point\n",
    "                      [-0.01907583, -0.00597143 , 0.99980021]],         # normal\n",
    "          '2019-1': [[1.18043622e+05, 4.88788105e+05, 7.28090065e+00], \n",
    "                      [-0.0191627,  -0.00399964 , 0.99980838]],\n",
    "          '2018-2': [[1.18067443e+05, 4.88788088e+05, 7.32255846e+00], \n",
    "                      [ 0.01882162 ,-0.00257657,0.99981954]],\n",
    "          '2019-2': [[1.18067129e+05, 4.88788024e+05, 7.33989558e+00], \n",
    "                      [-0.01913283 , 0.00412501 ,-0.99980844]]}"
   ]
  },
  {
   "cell_type": "code",
   "execution_count": 61,
   "metadata": {},
   "outputs": [],
   "source": [
    "\n",
    "p1, p2, p3 = [1.18046284e+05, 4.88788266e+05, 7.32619906e+00]\n",
    "r, s, t = v1, v2, v3 = [-0.01907583, -0.00597143 , 0.99980021]\n",
    "\n",
    "normal = [v1,v2,v3] \n",
    "point = [p1,p2,p3]\n"
   ]
  },
  {
   "cell_type": "code",
   "execution_count": null,
   "metadata": {},
   "outputs": [],
   "source": [
    "polygon = shapely.wkt.loads(wkt)\n",
    "bottom_left, bottom_right, upper_right, upper_left, _ = list(polygon.exterior.coords)\n",
    "# corners = ['bottom_left', 'bottom_right', 'upper_right', 'upper_left']\n",
    "corners = ['bl','br','ur','ul']"
   ]
  },
  {
   "cell_type": "code",
   "execution_count": 84,
   "metadata": {},
   "outputs": [
    {
     "name": "stdout",
     "output_type": "stream",
     "text": [
      "2018-1 \t 117890.70000000001\t 487316.5\t -4.432591808928383 \t0.99980021\n",
      "2019-1 \t 117890.70000000001\t 487316.5\t -1.5370776826077577 \t0.99980838\n",
      "2018-2 \t 117890.70000000001\t 487316.5\t 6.857414610640649 \t0.99981954\n",
      "2019-2 \t 117890.70000000001\t 487316.5\t 4.644914178192723 \t-0.99980844\n"
     ]
    }
   ],
   "source": [
    "z_vals = {}\n",
    "\n",
    "for key in models:\n",
    "    point = models[key][0]\n",
    "    normal = models[key][1]\n",
    "    \n",
    "    # normal[2] = abs(normal[2])\n",
    "    centroid = polygon.centroid\n",
    "    x,y = centroid.x, centroid.y\n",
    "    z = find_z(point, normal, x, y)\n",
    "    z_vals[f'{key}'] = (x,y,z)\n",
    "    print(f'{key} \\t {x}\\t {y}\\t {z} \\t{normal[2]}')\n",
    "    \n",
    "    '''\n",
    "    for i, coords in enumerate(polygon.exterior.centroid):\n",
    "        if i == 4:\n",
    "            break\n",
    "\n",
    "        x,y = coords\n",
    "        z = find_z(point, normal, x, y)\n",
    "        \n",
    "        z_vals[f'{key}-{corners[i]}'] = (x,y,z)\n",
    "        print(f'{key} \\t {corners[i]}\\t {x}\\t {y}\\t {z} \\t{normal[2]}')\n",
    "        \n",
    "        '''\n",
    "    \n",
    "    "
   ]
  },
  {
   "cell_type": "code",
   "execution_count": null,
   "metadata": {},
   "outputs": [],
   "source": [
    "z_diffs = {}\n",
    "\n",
    "# 2018\n",
    "for corner in corners:\n",
    "    key1 = f'2018-1-{corner}'\n",
    "    key2 = f'2018-2-{corner}'\n",
    "    \n",
    "    z_diffs[f'{corner}_2018'] = z_vals[key2][2] - z_vals[key1][2]\n",
    "    \n",
    "    \n",
    "# 2018\n",
    "for corner in corners:\n",
    "    key1 = f'2019-1-{corner}'\n",
    "    key2 = f'2019-2-{corner}'\n",
    "    \n",
    "    z_diffs[f'{corner}_2019'] = z_vals[key2][2] - z_vals[key1][2]\n",
    "  "
   ]
  },
  {
   "cell_type": "code",
   "execution_count": 88,
   "metadata": {},
   "outputs": [
    {
     "data": {
      "text/plain": [
       "{'bl_2018': 11.916183022200023,\n",
       " 'br_2018': 11.831293316733843,\n",
       " 'ur_2018': 10.663829816938497,\n",
       " 'ul_2018': 10.748719522404675,\n",
       " 'bl_2019': 11.673992354465172,\n",
       " 'br_2019': 11.470837182059745,\n",
       " 'ur_2019': 11.469916974365308,\n",
       " 'ul_2019': 11.673072146770737,\n",
       " '2018': -11.290006419569032,\n",
       " '2019': -6.181991860800481}"
      ]
     },
     "execution_count": 88,
     "metadata": {},
     "output_type": "execute_result"
    }
   ],
   "source": [
    "for jaar in [2018, 2019]:\n",
    "    z_diffs[f'{jaar}'] = z_vals[f'{jaar}-1'][2] - z_vals[f'{jaar}-2'][2]\n",
    "    \n",
    "z_diffs"
   ]
  },
  {
   "cell_type": "code",
   "execution_count": 55,
   "metadata": {},
   "outputs": [
    {
     "name": "stdout",
     "output_type": "stream",
     "text": [
      "corner \t 2018 \t 2019 \t difference\n",
      "bl \t 11.916183022200023 \t 11.673992354465172 \t 0.24219066773485132\n",
      "br \t 11.831293316733843 \t 11.470837182059745 \t 0.36045613467409865\n",
      "ur \t 10.663829816938497 \t 11.469916974365308 \t -0.8060871574268109\n",
      "ul \t 10.748719522404675 \t 11.673072146770737 \t -0.9243526243660618\n",
      "-0.4621763121830309\n"
     ]
    }
   ],
   "source": [
    "difference = 0\n",
    "print(f'corner \\t 2018 \\t 2019 \\t difference')\n",
    "for corner in corners:\n",
    "    key1 = f'{corner}_2018'\n",
    "    key2 = f'{corner}_2019'\n",
    "    difference = z_diffs[key1] - z_diffs[key2]\n",
    "    print(f'{corner} \\t {z_diffs[key1]} \\t {z_diffs[key2]} \\t {difference}')\n",
    "    \n",
    "    difference += difference\n",
    "    \n",
    "print(difference / 4 )\n",
    "    "
   ]
  },
  {
   "cell_type": "code",
   "execution_count": 23,
   "metadata": {},
   "outputs": [
    {
     "data": {
      "text/plain": [
       "7.326199059999593"
      ]
     },
     "execution_count": 23,
     "metadata": {},
     "output_type": "execute_result"
    }
   ],
   "source": [
    "\n",
    "find_z(models['2018-1'][0], models['2018-1'][1], \n",
    "       models['2018-1'][0][0], models['2018-1'][0][1])  # 7.2809006499996"
   ]
  },
  {
   "cell_type": "code",
   "execution_count": 22,
   "metadata": {},
   "outputs": [
    {
     "data": {
      "text/plain": [
       "[[118043.622, 488788.105, 7.28090065], [-0.0191627, -0.00399964, 0.99980838]]"
      ]
     },
     "execution_count": 22,
     "metadata": {},
     "output_type": "execute_result"
    }
   ],
   "source": [
    "models['2019-1']"
   ]
  },
  {
   "cell_type": "code",
   "execution_count": 32,
   "metadata": {},
   "outputs": [
    {
     "data": {
      "text/plain": [
       "3"
      ]
     },
     "execution_count": 32,
     "metadata": {},
     "output_type": "execute_result"
    }
   ],
   "source": [
    "abs(-3)"
   ]
  },
  {
   "cell_type": "code",
   "execution_count": 74,
   "metadata": {},
   "outputs": [
    {
     "data": {
      "text/plain": [
       "3.00000000001"
      ]
     },
     "execution_count": 74,
     "metadata": {},
     "output_type": "execute_result"
    }
   ],
   "source": [
    "float(np.array(3.00000000001))"
   ]
  },
  {
   "cell_type": "code",
   "execution_count": null,
   "metadata": {},
   "outputs": [],
   "source": []
  }
 ],
 "metadata": {
  "kernelspec": {
   "display_name": "Python 3",
   "language": "python",
   "name": "python3"
  },
  "language_info": {
   "codemirror_mode": {
    "name": "ipython",
    "version": 3
   },
   "file_extension": ".py",
   "mimetype": "text/x-python",
   "name": "python",
   "nbconvert_exporter": "python",
   "pygments_lexer": "ipython3",
   "version": "3.6.8"
  }
 },
 "nbformat": 4,
 "nbformat_minor": 2
}
