{
 "cells": [
  {
   "cell_type": "code",
   "execution_count": null,
   "metadata": {},
   "outputs": [],
   "source": [
    "import pdal\n",
    "import pyntcloud\n",
    "\n",
    "READ_PIPELINE = \"\"\"\n",
    "{{\n",
    "    \"pipeline\": [\n",
    "        {{\n",
    "            \"type\": \"readers.ept\",\n",
    "            \"filename\": \"{path}\",\n",
    "            \"bounds\": \"{bounds}\"\n",
    "        }},\n",
    "        {{\n",
    "            \"type\":\"filters.crop\",\n",
    "            \"polygon\":\"{wkt}\"\n",
    "        }}\n",
    "    ]\n",
    "}}\n",
    "\"\"\"\n",
    "\n",
    "WRITE_PIPELINE = \"\"\"\n",
    "{{\n",
    "    \"pipeline\": [\n",
    "        {{\n",
    "            \"type\": \"writers.las\",\n",
    "            \"filename\": \"{path}\",\n",
    "            \"extra_dims\": \"all\"\n",
    "        }}\n",
    "    ]\n",
    "}}\n",
    "\"\"\"\n",
    "def get_points(ept_path, bounds, wkt):\n",
    "    pipeline = pdal.Pipeline(READ_PIPELINE.format(\n",
    "        path=ept_path,\n",
    "        bounds=bounds,\n",
    "        wkt=wkt)\n",
    "    )\n",
    "\n",
    "    pipeline.validate()\n",
    "    pipeline.execute()\n",
    "    point_cloud = pipeline.arrays[0]\n",
    "\n",
    "    return point_cloud\n",
    "\n",
    "\n",
    "def write_to_laz(point_cloud, path):\n",
    "    pipeline = pdal.Pipeline(\n",
    "        WRITE_PIPELINE.format(path=path),\n",
    "        arrays=[point_cloud]\n",
    "    )\n",
    "    pipeline.validate()\n",
    "    pipeline.execute()\n",
    "\n",
    "\n",
    "    "
   ]
  },
  {
   "cell_type": "code",
   "execution_count": null,
   "metadata": {},
   "outputs": [],
   "source": [
    "test_area = [117813.6,487266.1,117942.1,487370.7]\n",
    "xmin,ymin,xmax,ymax = test_area\n",
    "\n",
    "path_a10_2018 = '/var/data/rws/data/2018/entwined/ept.json'\n",
    "path_a10_2019 = '/var/data/rws/data/2019/amsterdam_entwined/ept.json'\n",
    "\n",
    "wkt = 'POLYGON((117813.6 487266.1,117813.6 487370.7,117942.1 487370.7,117942.1 487266.1,117813.6 487266.1))'\n",
    "wkt_small = 'POLYGON((117813 487266,117813 487270,117815 487270,117815 487266,117813 487266))'\n",
    "\n",
    "\n",
    "bounds = f'([{xmin}, {xmax}], [{ymin}, {ymax}])'\n",
    "pc1 = get_points(path_a10_2018, bounds, wkt_small)\n",
    "print(f'loaded pc 1')\n",
    "pc2 = get_points(path_a10_2019, bounds, wkt_small)\n",
    "print(f'loaded pc 2')\n",
    "\n"
   ]
  },
  {
   "cell_type": "code",
   "execution_count": null,
   "metadata": {},
   "outputs": [],
   "source": [
    "print(pc1.shape, pc2.shape)"
   ]
  },
  {
   "cell_type": "code",
   "execution_count": null,
   "metadata": {},
   "outputs": [],
   "source": [
    "from sklearn.cluster import DBSCAN\n",
    "import numpy as np\n",
    "\n",
    "# reference_array = np.array(pc1[['X', 'Y', 'Z']].tolist())\n",
    "# compared_array = np.array(pc2[['X', 'Y', 'Z']].tolist())\n",
    "\n",
    "arr = np.array(pc1[['X','Y','Z']].tolist())\n",
    "# print(arr)\n",
    "\n",
    "clustering = DBSCAN(eps=3, min_samples=2).fit(arr)\n",
    "clustering.labels_.shape"
   ]
  },
  {
   "cell_type": "code",
   "execution_count": null,
   "metadata": {},
   "outputs": [],
   "source": [
    "np.array(pc1[['X','Y','Z']].tolist())"
   ]
  },
  {
   "cell_type": "code",
   "execution_count": null,
   "metadata": {},
   "outputs": [],
   "source": []
  },
  {
   "cell_type": "code",
   "execution_count": null,
   "metadata": {},
   "outputs": [],
   "source": []
  },
  {
   "cell_type": "code",
   "execution_count": null,
   "metadata": {},
   "outputs": [],
   "source": []
  }
 ],
 "metadata": {
  "kernelspec": {
   "display_name": "Python 3",
   "language": "python",
   "name": "python3"
  },
  "language_info": {
   "codemirror_mode": {
    "name": "ipython",
    "version": 3
   },
   "file_extension": ".py",
   "mimetype": "text/x-python",
   "name": "python",
   "nbconvert_exporter": "python",
   "pygments_lexer": "ipython3",
   "version": "3.7.3"
  }
 },
 "nbformat": 4,
 "nbformat_minor": 2
}
