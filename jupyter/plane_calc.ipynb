{
 "cells": [
  {
   "cell_type": "code",
   "execution_count": null,
   "metadata": {},
   "outputs": [],
   "source": [
    "import numpy as np\n",
    "\n",
    "point1 = np.array([1,3,5])\n",
    "normal1 = np.array([2,4,6])\n",
    "\n",
    "point2 = np.array([1,3,5])\n",
    "normal2 = np.array([2,4,6])\n",
    "\n",
    "\n",
    "plane_1 = {'point':point1,\n",
    "           'normal':normal1,\n",
    "          'x':point1[0],\n",
    "          'y':point1[0],\n",
    "          'z':point1[0],\n",
    "          'a':normal1[0],\n",
    "          'b':normal1[0],\n",
    "          'c':normal1[0]}\n",
    "\n",
    "plane_2 = {'point':point2,\n",
    "           'normal':normal2,\n",
    "          'x':point2[0],\n",
    "          'y':point2[0],\n",
    "          'z':point2[0],\n",
    "          'a':normal2[0],\n",
    "          'b':normal2[0],\n",
    "          'c':normal2[0]}\n",
    "\n",
    "\n",
    "def point_on_plane(plane_model, point)\n",
    "    '''\n",
    "    \n",
    "    '''  \n",
    "    \n",
    "    vectors = points - self.point\n",
    "    distances = np.abs(np.dot(vectors, self.normal))\n",
    "    \n",
    "    \n",
    "    return distanse\n",
    "\n"
   ]
  }
 ],
 "metadata": {
  "kernelspec": {
   "display_name": "Python 3",
   "language": "python",
   "name": "python3"
  },
  "language_info": {
   "codemirror_mode": {
    "name": "ipython",
    "version": 3
   },
   "file_extension": ".py",
   "mimetype": "text/x-python",
   "name": "python",
   "nbconvert_exporter": "python",
   "pygments_lexer": "ipython3",
   "version": "3.6.8"
  }
 },
 "nbformat": 4,
 "nbformat_minor": 2
}
