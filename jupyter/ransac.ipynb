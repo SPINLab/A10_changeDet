{
 "cells": [
  {
   "cell_type": "code",
   "execution_count": 4,
   "metadata": {},
   "outputs": [],
   "source": [
    "from functions import get_points, write_to_laz, find_plane, find_clusters, kmeans_clusters, recursive_planes, filter_distance, hausdorff_distance, get_relevant_cids\n",
    "\n",
    "import pandas as pd\n",
    "from pyntcloud import PyntCloud\n",
    "import numpy as np\n",
    "import pdal\n",
    "import shapely.wkt\n",
    "from numpy.lib import recfunctions as rfn\n",
    "\n",
    "import numpy as np\n",
    "import pandas as pd\n",
    "import matplotlib\n",
    "pd.options.mode.chained_assignment = None  # default='warn'\n",
    "import warnings\n",
    "warnings.simplefilter(action='ignore', category=FutureWarning)\n",
    "\n",
    "from pyntcloud import PyntCloud\n",
    "from sklearn.cluster import DBSCAN\n",
    "\n",
    "from scipy.spatial import cKDTree\n",
    "\n",
    "from pyntcloud.ransac.fitters import single_fit\n",
    "from pyntcloud.ransac.models import RansacPlane\n",
    "\n",
    "%load_ext autoreload\n",
    "%autoreload 2"
   ]
  },
  {
   "cell_type": "code",
   "execution_count": 5,
   "metadata": {},
   "outputs": [
    {
     "name": "stdout",
     "output_type": "stream",
     "text": [
      "loaded pc 2018\n",
      "loaded pc 2019\n"
     ]
    }
   ],
   "source": [
    "# test_area = [117813.6,487266.1,117942.1,487370.7]\n",
    "# xmin,ymin,xmax,ymax = test_area\n",
    "\n",
    "path_a10_2018 = '/var/data/rws/data/2018/entwined/ept.json'\n",
    "path_a10_2019 = '/var/data/rws/data/2019/amsterdam_entwined/ept.json'\n",
    "\n",
    "# random area: \n",
    "# wkt = 'POLYGON((117813.6 487266.1,117813.6 487370.7,117942.1 487370.7,117942.1 487266.1,117813.6 487266.1))'\n",
    "\n",
    "# small area: \n",
    "# wkt = 'POLYGON((117813 487266,117813 487270,117815 487270,117815 487266,117813 487266))' # small! \n",
    "\n",
    "# portal:\n",
    "# wkt = 'POLYGON((118032.6 488782.8,118032.6 488793.5,118078.8 488793.5,118078.8 488782.8,118032.6 488782.8))' # portal\n",
    "\n",
    "# portal zonder palen\n",
    "wkt = 'POLYGON((118037.0 488782.8,118037.0 488793.5,118072.0 488793.5,118072.0 488782.8,118037.0 488782.8))' # portal zonder palen\n",
    "\n",
    "# brug\n",
    "# wkt = 'POLYGON((117875.3 487304,117875.3 487329,117906.1 487329,117906.1 487304,117875.3 487304))' # brug\n",
    "\n",
    "# stukje brug\n",
    "# wkt = 'POLYGON((117890.1 487311,117890.1 487312.5,117892 487312.5,117892 487311,117890.1 487311))' # brug\n",
    "\n",
    "\n",
    "xmin,ymin,xmax,ymax = shapely.wkt.loads(wkt).bounds\n",
    "\n",
    "bounds = f'([{xmin}, {xmax}], [{ymin}, {ymax}])'\n",
    "pc18 = get_points(path_a10_2018, bounds, wkt)\n",
    "print(f'loaded pc 2018')\n",
    "\n",
    "bounds = f'([{xmin}, {xmax}], [{ymin}, {ymax}])'\n",
    "pc19 = get_points(path_a10_2019, bounds, wkt)\n",
    "\n",
    "print(f'loaded pc 2019')"
   ]
  },
  {
   "cell_type": "code",
   "execution_count": 6,
   "metadata": {},
   "outputs": [
    {
     "name": "stdout",
     "output_type": "stream",
     "text": [
      "filtered\n",
      "dataframed\n",
      "filtered\n",
      "dataframed\n"
     ]
    }
   ],
   "source": [
    "# from functions import filter_distance \n",
    "\n",
    "filtered_2019 = filter_distance(pc19, pc18)\n",
    "print('filtered')\n",
    "points_2019 = pd.DataFrame(\n",
    "    np.array(filtered_2019[['X','Y','Z','Red','Green','Blue']].tolist()), \n",
    "    columns=['x', 'y', 'z','red','green','blue'])\n",
    "print('dataframed')\n",
    "\n",
    "# from functions import filter_distance \n",
    "\n",
    "filtered_2018 = filter_distance(pc18, pc19)\n",
    "print('filtered')\n",
    "points_2018 = pd.DataFrame(\n",
    "    np.array(filtered_2018[['X','Y','Z','Red','Green','Blue']].tolist()), \n",
    "    columns=['x', 'y', 'z','red','green','blue'])\n",
    "print('dataframed')"
   ]
  },
  {
   "cell_type": "code",
   "execution_count": 7,
   "metadata": {
    "scrolled": true
   },
   "outputs": [
    {
     "name": "stdout",
     "output_type": "stream",
     "text": [
      "clustering cluster 1\n",
      "clustering cluster 2\n",
      "clustering cluster 3\n",
      "clustering cluster 4\n",
      "clustering cluster 5\n",
      "2018 done\n",
      "clustering cluster 1\n",
      "clustering cluster 2\n",
      "clustering cluster 3\n",
      "clustering cluster 4\n",
      "clustering cluster 5\n",
      "2019 done\n"
     ]
    }
   ],
   "source": [
    "try:\n",
    "    del points_with_planes\n",
    "except:\n",
    "    pass\n",
    "planes18, models18 = recursive_planes(points_2018.copy(), 5, 200)\n",
    "print('2018 done')\n",
    "planes19, models19 = recursive_planes(points_2019.copy(), 5, 200)\n",
    "print('2019 done')"
   ]
  },
  {
   "cell_type": "code",
   "execution_count": 8,
   "metadata": {},
   "outputs": [],
   "source": [
    "rel_cids18 = get_relevant_cids(planes18)\n",
    "rel_cids19 = get_relevant_cids(planes19)"
   ]
  },
  {
   "cell_type": "code",
   "execution_count": 9,
   "metadata": {
    "scrolled": true
   },
   "outputs": [
    {
     "name": "stdout",
     "output_type": "stream",
     "text": [
      "2018: 1 [1.18046284e+05 4.88788266e+05 7.32619906e+00] [-0.01907583 -0.00597143  0.99980021]\n",
      "2019: 1 [1.18043622e+05 4.88788105e+05 7.28090065e+00] [-0.0191627  -0.00399964  0.99980838]\n",
      "2018: 2 [1.18067443e+05 4.88788088e+05 7.32255846e+00] [ 0.01882162 -0.00257657  0.99981954]\n",
      "2019: 2 [1.18067129e+05 4.88788024e+05 7.33989558e+00] [-0.01913283  0.00412501 -0.99980844]\n"
     ]
    }
   ],
   "source": [
    "for i in range(2):\n",
    "    print('2018:', rel_cids18[i], models18[rel_cids18[i]].point, models18[rel_cids18[i]].normal)\n",
    "    print('2019:', rel_cids19[i], models19[rel_cids19[i]].point, models19[rel_cids19[i]].normal)\n",
    "    \n",
    "    "
   ]
  },
  {
   "cell_type": "code",
   "execution_count": 17,
   "metadata": {},
   "outputs": [
    {
     "name": "stdout",
     "output_type": "stream",
     "text": [
      "wrote\n"
     ]
    }
   ],
   "source": [
    "ransac = rfn.append_fields(filtered_2019[['X','Y','Z','Red','Green','Blue']], \n",
    "                              'Classification', \n",
    "                              planes19['cid'].astype(np.uint16),\n",
    "                              usemask=False\n",
    "                             )\n",
    "\n",
    "write_to_laz(ransac, '/var/data/rws/data/output/tst_ransac/portal_planes.laz')\n",
    "print('wrote')"
   ]
  },
  {
   "cell_type": "code",
   "execution_count": 14,
   "metadata": {},
   "outputs": [],
   "source": []
  },
  {
   "cell_type": "code",
   "execution_count": 13,
   "metadata": {},
   "outputs": [],
   "source": [
    "models = {'2018: 1': [[1.18046284e+05, 4.88788266e+05, 7.32619906e+00], [-0.01907583, -0.00597143 , 0.99980021]],\n",
    "'2019: 1': [[1.18043622e+05, 4.88788105e+05, 7.28090065e+00], [-0.0191627,  -0.00399964 , 0.99980838]],\n",
    "'2018: 2': [[1.18067443e+05, 4.88788088e+05, 7.32255846e+00], [ 0.01882162 ,-0.00257657,0.99981954]],\n",
    "'2019: 2': [[1.18067129e+05, 4.88788024e+05, 7.33989558e+00], [-0.01913283 , 0.00412501 ,-0.99980844]]}"
   ]
  },
  {
   "cell_type": "code",
   "execution_count": null,
   "metadata": {},
   "outputs": [],
   "source": []
  }
 ],
 "metadata": {
  "kernelspec": {
   "display_name": "Python 3",
   "language": "python",
   "name": "python3"
  },
  "language_info": {
   "codemirror_mode": {
    "name": "ipython",
    "version": 3
   },
   "file_extension": ".py",
   "mimetype": "text/x-python",
   "name": "python",
   "nbconvert_exporter": "python",
   "pygments_lexer": "ipython3",
   "version": "3.7.3"
  }
 },
 "nbformat": 4,
 "nbformat_minor": 2
}
