{
 "cells": [
  {
   "cell_type": "code",
   "execution_count": 1,
   "metadata": {},
   "outputs": [],
   "source": [
    "from functions import get_points, write_to_laz #, recursive_plane\n",
    "\n",
    "import pandas as pd\n",
    "from pyntcloud import PyntCloud\n",
    "import numpy as np\n",
    "import pdal\n",
    "import shapely.wkt\n",
    "from numpy.lib import recfunctions as rfn\n",
    "\n",
    "import numpy as np\n",
    "import pandas as pd\n",
    "import matplotlib\n",
    "pd.options.mode.chained_assignment = None  # default='warn'\n",
    "import warnings\n",
    "warnings.simplefilter(action='ignore', category=FutureWarning)\n",
    "\n",
    "from pyntcloud import PyntCloud\n",
    "from sklearn.cluster import DBSCAN\n",
    "\n",
    "from scipy.spatial import cKDTree\n",
    "\n",
    "from pyntcloud.ransac.fitters import single_fit\n",
    "from pyntcloud.ransac.models import RansacPlane"
   ]
  },
  {
   "cell_type": "code",
   "execution_count": 2,
   "metadata": {},
   "outputs": [],
   "source": [
    "READ_PIPELINE = \"\"\"\n",
    "{{\n",
    "    \"pipeline\": [\n",
    "        {{\n",
    "            \"type\": \"readers.ept\",\n",
    "            \"filename\": \"{path}\",\n",
    "            \"bounds\": \"{bounds}\"\n",
    "        }},\n",
    "        {{\n",
    "            \"type\":\"filters.crop\",\n",
    "            \"polygon\":\"{wkt}\"\n",
    "        }}\n",
    "    ]\n",
    "}}\n",
    "\"\"\"\n",
    "\n",
    "WRITE_PIPELINE = \"\"\"\n",
    "{{\n",
    "    \"pipeline\": [\n",
    "        {{\n",
    "            \"type\": \"writers.las\",\n",
    "            \"filename\": \"{path}\",\n",
    "            \"extra_dims\": \"all\"\n",
    "        }}\n",
    "    ]\n",
    "}}\n",
    "\"\"\"\n",
    "\n",
    "\n",
    "def get_points(ept_path, bounds, wkt):\n",
    "    pipeline = pdal.Pipeline(READ_PIPELINE.format(\n",
    "        path=ept_path,\n",
    "        bounds=bounds,\n",
    "        wkt=wkt)\n",
    "    )\n",
    "\n",
    "    pipeline.validate()\n",
    "    pipeline.execute()\n",
    "    point_cloud = pipeline.arrays[0]\n",
    "\n",
    "    return point_cloud\n",
    "\n",
    "\n",
    "def write_to_laz(point_cloud, path):\n",
    "    pipeline = pdal.Pipeline(\n",
    "        WRITE_PIPELINE.format(path=path),\n",
    "        arrays=[point_cloud]\n",
    "    )\n",
    "    pipeline.validate()\n",
    "    pipeline.execute()\n",
    "\n",
    "\n",
    "def hausdorff_distance(reference_cloud, compared_cloud):\n",
    "    \"\"\"\n",
    "\n",
    "    Parameters\n",
    "    ----------\n",
    "    reference_cloud : (Mx3) array\n",
    "        The X, Y, Z coordinates of points in the reference cloud\n",
    "    compared_cloud : (Mx3) array\n",
    "        The X, Y, Z coordinates of points in the compared cloud\n",
    "    \"\"\"\n",
    "    tree = cKDTree(reference_cloud)\n",
    "    distances, _ = tree.query(compared_cloud, k=1)\n",
    "    return distances\n",
    "\n",
    "def filter_distance(reference_cloud, compared_cloud, max_dist = 0.05):\n",
    "    reference_array = np.array(reference_cloud[['X', 'Y', 'Z']].tolist())\n",
    "    compared_array = np.array(compared_cloud[['X', 'Y', 'Z']].tolist())\n",
    "\n",
    "    haus_distances = hausdorff_distance(reference_array, \n",
    "                                        compared_array)\n",
    "    out_array = rfn.append_fields(compared_cloud[['X','Y','Z','Red','Green','Blue']], \n",
    "                                'Distance', \n",
    "                                haus_distances)\n",
    "    filtered_out_array = out_array[out_array['Distance'] < max_dist]\n",
    "\n",
    "    return filtered_out_array\n",
    "\n",
    "\n",
    "\n"
   ]
  },
  {
   "cell_type": "code",
   "execution_count": 7,
   "metadata": {},
   "outputs": [
    {
     "name": "stdout",
     "output_type": "stream",
     "text": [
      "loaded pc 2018\n",
      "loaded pc 2019\n"
     ]
    }
   ],
   "source": [
    "# test_area = [117813.6,487266.1,117942.1,487370.7]\n",
    "# xmin,ymin,xmax,ymax = test_area\n",
    "\n",
    "path_a10_2018 = '/var/data/rws/data/2018/entwined/ept.json'\n",
    "path_a10_2019 = '/var/data/rws/data/2019/amsterdam_entwined/ept.json'\n",
    "\n",
    "# random area: \n",
    "# wkt = 'POLYGON((117813.6 487266.1,117813.6 487370.7,117942.1 487370.7,117942.1 487266.1,117813.6 487266.1))'\n",
    "\n",
    "# small area: \n",
    "# wkt = 'POLYGON((117813 487266,117813 487270,117815 487270,117815 487266,117813 487266))' # small! \n",
    "\n",
    "# portal:\n",
    "# wkt = 'POLYGON((118032.6 488782.8,118032.6 488793.5,118078.8 488793.5,118078.8 488782.8,118032.6 488782.8))' # portal\n",
    "\n",
    "# portal zonder palen\n",
    "# wkt = 'POLYGON((118037.0 488782.8,118037.0 488793.5,118072.0 488793.5,118072.0 488782.8,118037.0 488782.8))' # portal zonder palen\n",
    "\n",
    "# brug\n",
    "wkt = 'POLYGON((117875.3 487304,117875.3 487329,117906.1 487329,117906.1 487304,117875.3 487304))' # brug\n",
    "\n",
    "# stukje brug\n",
    "# wkt = 'POLYGON((117890.1 487311,117890.1 487312.5,117892 487312.5,117892 487311,117890.1 487311))' # brug\n",
    "\n",
    "\n",
    "xmin,ymin,xmax,ymax = shapely.wkt.loads(wkt).bounds\n",
    "\n",
    "bounds = f'([{xmin}, {xmax}], [{ymin}, {ymax}])'\n",
    "pc18 = get_points(path_a10_2018, bounds, wkt)\n",
    "print(f'loaded pc 2018')\n",
    "\n",
    "bounds = f'([{xmin}, {xmax}], [{ymin}, {ymax}])'\n",
    "pc19 = get_points(path_a10_2019, bounds, wkt)\n",
    "print(f'loaded pc 2019')"
   ]
  },
  {
   "cell_type": "code",
   "execution_count": 8,
   "metadata": {},
   "outputs": [
    {
     "name": "stdout",
     "output_type": "stream",
     "text": [
      "filtered\n",
      "dataframed\n"
     ]
    }
   ],
   "source": [
    "filtered_2018 = filter_distance(pc18, pc19)\n",
    "print('filtered')\n",
    "points_2018 = pd.DataFrame(\n",
    "    np.array(filtered_2018[['X','Y','Z','Red','Green','Blue']].tolist()), \n",
    "    columns=['x', 'y', 'z','red','green','blue'])\n",
    "print('dataframed')"
   ]
  },
  {
   "cell_type": "code",
   "execution_count": 12,
   "metadata": {},
   "outputs": [
    {
     "name": "stdout",
     "output_type": "stream",
     "text": [
      "[ 1.17892977e+05  4.87315606e+05 -1.27912968e-01]\n",
      "[ 0.0311825  -0.01177057  0.9994444 ]\n",
      "[ 1.17892518e+05  4.87315549e+05 -1.17779567e-01]\n",
      "[ 0.02886766 -0.01166215  0.99951521]\n",
      "[ 1.17892385e+05  4.87317331e+05 -8.92014563e-02]\n",
      "[ 0.0283879  -0.01215366  0.99952309]\n",
      "[ 1.17892167e+05  4.87316490e+05 -9.36924494e-02]\n",
      "[ 0.02795337 -0.01177476  0.99953988]\n",
      "fit planes\n",
      "wrote\n"
     ]
    }
   ],
   "source": [
    "try:\n",
    "    del points_with_planes\n",
    "except:\n",
    "    pass\n",
    "tst = recursive_planes(points_2018.copy(), 2, 10000)\n",
    "print('fit planes')\n",
    "\n",
    "ransac = rfn.append_fields(filtered_2018[['X','Y','Z','Red','Green','Blue']], \n",
    "                              'Classification', \n",
    "                              tst['cid'].astype(np.uint16),\n",
    "                              usemask=False\n",
    "                             )\n",
    "\n",
    "write_to_laz(ransac, '/var/data/rws/data/output/tst_ransac/brug_planes.laz')\n",
    "print('wrote')\n",
    "\n"
   ]
  },
  {
   "cell_type": "code",
   "execution_count": 14,
   "metadata": {},
   "outputs": [
    {
     "data": {
      "text/plain": [
       "(array([ 1,  2,  3,  4, 10], dtype=uint16),\n",
       " array([  1735,   1615,   1648,   1629, 989422]))"
      ]
     },
     "execution_count": 14,
     "metadata": {},
     "output_type": "execute_result"
    }
   ],
   "source": [
    "np.unique(ransac['Classification'], return_counts=True)"
   ]
  },
  {
   "cell_type": "code",
   "execution_count": 11,
   "metadata": {},
   "outputs": [],
   "source": []
  },
  {
   "cell_type": "code",
   "execution_count": null,
   "metadata": {},
   "outputs": [],
   "source": []
  }
 ],
 "metadata": {
  "kernelspec": {
   "display_name": "Python 3",
   "language": "python",
   "name": "python3"
  },
  "language_info": {
   "codemirror_mode": {
    "name": "ipython",
    "version": 3
   },
   "file_extension": ".py",
   "mimetype": "text/x-python",
   "name": "python",
   "nbconvert_exporter": "python",
   "pygments_lexer": "ipython3",
   "version": "3.7.3"
  }
 },
 "nbformat": 4,
 "nbformat_minor": 2
}
