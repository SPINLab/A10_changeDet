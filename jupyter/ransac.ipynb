{
 "cells": [
  {
   "cell_type": "code",
   "execution_count": 1,
   "metadata": {},
   "outputs": [],
   "source": [
    "from functions import get_points, write_to_laz #, recursive_plane\n",
    "\n",
    "import pandas as pd\n",
    "from pyntcloud import PyntCloud\n",
    "import numpy as np\n",
    "import pdal\n",
    "import shapely.wkt\n",
    "from numpy.lib import recfunctions as rfn\n",
    "\n",
    "import numpy as np\n",
    "import pandas as pd\n",
    "import matplotlib\n",
    "pd.options.mode.chained_assignment = None  # default='warn'\n",
    "import warnings\n",
    "warnings.simplefilter(action='ignore', category=FutureWarning)\n",
    "\n",
    "from pyntcloud import PyntCloud\n",
    "from sklearn.cluster import DBSCAN\n",
    "\n",
    "from scipy.spatial import cKDTree\n",
    "\n",
    "from pyntcloud.ransac.fitters import single_fit\n",
    "from pyntcloud.ransac.models import RansacPlane"
   ]
  },
  {
   "cell_type": "code",
   "execution_count": 2,
   "metadata": {},
   "outputs": [],
   "source": [
    "READ_PIPELINE = \"\"\"\n",
    "{{\n",
    "    \"pipeline\": [\n",
    "        {{\n",
    "            \"type\": \"readers.ept\",\n",
    "            \"filename\": \"{path}\",\n",
    "            \"bounds\": \"{bounds}\"\n",
    "        }},\n",
    "        {{\n",
    "            \"type\":\"filters.crop\",\n",
    "            \"polygon\":\"{wkt}\"\n",
    "        }}\n",
    "    ]\n",
    "}}\n",
    "\"\"\"\n",
    "\n",
    "WRITE_PIPELINE = \"\"\"\n",
    "{{\n",
    "    \"pipeline\": [\n",
    "        {{\n",
    "            \"type\": \"writers.las\",\n",
    "            \"filename\": \"{path}\",\n",
    "            \"extra_dims\": \"all\"\n",
    "        }}\n",
    "    ]\n",
    "}}\n",
    "\"\"\"\n",
    "\n",
    "\n",
    "def get_points(ept_path, bounds, wkt):\n",
    "    pipeline = pdal.Pipeline(READ_PIPELINE.format(\n",
    "        path=ept_path,\n",
    "        bounds=bounds,\n",
    "        wkt=wkt)\n",
    "    )\n",
    "\n",
    "    pipeline.validate()\n",
    "    pipeline.execute()\n",
    "    point_cloud = pipeline.arrays[0]\n",
    "\n",
    "    return point_cloud\n",
    "\n",
    "\n",
    "def write_to_laz(point_cloud, path):\n",
    "    pipeline = pdal.Pipeline(\n",
    "        WRITE_PIPELINE.format(path=path),\n",
    "        arrays=[point_cloud]\n",
    "    )\n",
    "    pipeline.validate()\n",
    "    pipeline.execute()\n",
    "\n",
    "\n",
    "def hausdorff_distance(reference_cloud, compared_cloud):\n",
    "    \"\"\"\n",
    "\n",
    "    Parameters\n",
    "    ----------\n",
    "    reference_cloud : (Mx3) array\n",
    "        The X, Y, Z coordinates of points in the reference cloud\n",
    "    compared_cloud : (Mx3) array\n",
    "        The X, Y, Z coordinates of points in the compared cloud\n",
    "    \"\"\"\n",
    "    tree = cKDTree(reference_cloud)\n",
    "    distances, _ = tree.query(compared_cloud, k=1)\n",
    "    return distances\n",
    "\n",
    "def filter_distance(reference_cloud, compared_cloud, max_dist = 0.05):\n",
    "    reference_array = np.array(reference_cloud[['X', 'Y', 'Z']].tolist())\n",
    "    compared_array = np.array(compared_cloud[['X', 'Y', 'Z']].tolist())\n",
    "\n",
    "    haus_distances = hausdorff_distance(reference_array, \n",
    "                                        compared_array)\n",
    "    out_array = rfn.append_fields(compared_cloud[['X','Y','Z','Red','Green','Blue']], \n",
    "                                'Distance', \n",
    "                                haus_distances)\n",
    "    filtered_out_array = out_array[out_array['Distance'] < max_dist]\n",
    "\n",
    "    return filtered_out_array\n",
    "\n",
    "\n",
    "\n"
   ]
  },
  {
   "cell_type": "code",
   "execution_count": 7,
   "metadata": {},
   "outputs": [
    {
     "name": "stdout",
     "output_type": "stream",
     "text": [
      "loaded pc 2018\n",
      "loaded pc 2019\n"
     ]
    }
   ],
   "source": [
    "# test_area = [117813.6,487266.1,117942.1,487370.7]\n",
    "# xmin,ymin,xmax,ymax = test_area\n",
    "\n",
    "path_a10_2018 = '/var/data/rws/data/2018/entwined/ept.json'\n",
    "path_a10_2019 = '/var/data/rws/data/2019/amsterdam_entwined/ept.json'\n",
    "\n",
    "# random area: \n",
    "# wkt = 'POLYGON((117813.6 487266.1,117813.6 487370.7,117942.1 487370.7,117942.1 487266.1,117813.6 487266.1))'\n",
    "\n",
    "# small area: \n",
    "# wkt = 'POLYGON((117813 487266,117813 487270,117815 487270,117815 487266,117813 487266))' # small! \n",
    "\n",
    "# portal:\n",
    "# wkt = 'POLYGON((118032.6 488782.8,118032.6 488793.5,118078.8 488793.5,118078.8 488782.8,118032.6 488782.8))' # portal\n",
    "\n",
    "# portal zonder palen\n",
    "# wkt = 'POLYGON((118037.0 488782.8,118037.0 488793.5,118072.0 488793.5,118072.0 488782.8,118037.0 488782.8))' # portal zonder palen\n",
    "\n",
    "# brug\n",
    "wkt = 'POLYGON((117875.3 487304,117875.3 487329,117906.1 487329,117906.1 487304,117875.3 487304))' # brug\n",
    "\n",
    "# stukje brug\n",
    "# wkt = 'POLYGON((117890.1 487311,117890.1 487312.5,117892 487312.5,117892 487311,117890.1 487311))' # brug\n",
    "\n",
    "\n",
    "xmin,ymin,xmax,ymax = shapely.wkt.loads(wkt).bounds\n",
    "\n",
    "bounds = f'([{xmin}, {xmax}], [{ymin}, {ymax}])'\n",
    "pc18 = get_points(path_a10_2018, bounds, wkt)\n",
    "print(f'loaded pc 2018')\n",
    "\n",
    "bounds = f'([{xmin}, {xmax}], [{ymin}, {ymax}])'\n",
    "pc19 = get_points(path_a10_2019, bounds, wkt)\n",
    "print(f'loaded pc 2019')"
   ]
  },
  {
   "cell_type": "code",
   "execution_count": 8,
   "metadata": {},
   "outputs": [
    {
     "name": "stdout",
     "output_type": "stream",
     "text": [
      "filtered\n",
      "dataframed\n"
     ]
    }
   ],
   "source": [
    "filtered_2018 = filter_distance(pc18, pc19)\n",
    "print('filtered')\n",
    "points_2018 = pd.DataFrame(\n",
    "    np.array(filtered_2018[['X','Y','Z','Red','Green','Blue']].tolist()), \n",
    "    columns=['x', 'y', 'z','red','green','blue'])\n",
    "print('dataframed')"
   ]
  },
  {
   "cell_type": "code",
   "execution_count": null,
   "metadata": {},
   "outputs": [],
   "source": [
    "try:\n",
    "    del points_with_planes\n",
    "except:\n",
    "    pass\n",
    "tst = recursive_planes(points_2018.copy(), 2, 10000)\n",
    "print('fit planes')\n",
    "\n",
    "ransac = rfn.append_fields(filtered_2018[['X','Y','Z','Red','Green','Blue']], \n",
    "                              'Classification', \n",
    "                              tst['cid'].astype(np.uint16),\n",
    "                              usemask=False\n",
    "                             )\n",
    "\n",
    "write_to_laz(ransac, '/var/data/rws/data/output/tst_ransac/brug_planes.laz')\n",
    "print('wrote')\n",
    "\n"
   ]
  },
  {
   "cell_type": "code",
   "execution_count": 33,
   "metadata": {},
   "outputs": [
    {
     "data": {
      "text/plain": [
       "(array([ 1,  2, 10], dtype=uint16), array([330368, 198809, 466872]))"
      ]
     },
     "execution_count": 33,
     "metadata": {},
     "output_type": "execute_result"
    }
   ],
   "source": [
    "np.unique(ransac['Classification'], return_counts=True)"
   ]
  },
  {
   "cell_type": "code",
   "execution_count": 16,
   "metadata": {},
   "outputs": [
    {
     "name": "stdout",
     "output_type": "stream",
     "text": [
      "[ 1.17893703e+05  4.87315456e+05 -1.50178186e-01]\n",
      "[ 0.03275589 -0.0117713   0.99939406]\n"
     ]
    }
   ],
   "source": [
    "xyz = PyntCloud(pd.DataFrame({\n",
    "                'x':points_2018.x,\n",
    "                'y':points_2018.y,\n",
    "                'z':points_2018.z\n",
    "                   }))\n",
    "\n",
    "inliers, best_model = single_fit(xyz.points.values, \n",
    "                                 RansacPlane, \n",
    "                                 return_model=True,\n",
    "                                 #max_dist=0.2, \n",
    "                                 max_iterations=1000, \n",
    "                                 n_inliers_to_stop=None)\n",
    "            \n",
    "print(best_model.point)\n",
    "print(best_model.normal)"
   ]
  },
  {
   "cell_type": "code",
   "execution_count": 30,
   "metadata": {},
   "outputs": [
    {
     "data": {
      "text/plain": [
       "(333161, 6)"
      ]
     },
     "execution_count": 30,
     "metadata": {},
     "output_type": "execute_result"
    }
   ],
   "source": [
    "outliers = best_model.get_projections(xyz.points.values)[0] <= 0.2\n",
    "points_2018[outliers].shape"
   ]
  },
  {
   "cell_type": "code",
   "execution_count": 34,
   "metadata": {},
   "outputs": [],
   "source": [
    "\n",
    "def recursive_planes(pyntcloud_pts, n_planes = 2, min_pts = 100, max_dist = 0.2, max_iterations = 10000):\n",
    "    \n",
    "    pyntcloud_pts['uid'] = pyntcloud_pts.index\n",
    "    ransac_points = pyntcloud_pts.copy()\n",
    "    points_with_planes = None\n",
    "    \n",
    "    for i in range(n_planes):\n",
    "        if len(pyntcloud_pts.index) < min_pts:\n",
    "            print(f'found {i + 1} planes')\n",
    "            break\n",
    "            \n",
    "        else:\n",
    "            # fit a plane\n",
    "            # ransac_points.add_scalar_field(\"plane_fit\",\n",
    "            #                 max_dist=0.2, \n",
    "            #                max_iterations=1000, \n",
    "            #                n_inliers_to_stop=None)\n",
    "            \n",
    "            xyz = PyntCloud(pd.DataFrame({\n",
    "                'x':ransac_points.x,\n",
    "                'y':ransac_points.y,\n",
    "                'z':ransac_points.z\n",
    "                   }))\n",
    "            \n",
    "            inliers, best_model = single_fit(xyz.points.values, \n",
    "                                             RansacPlane, \n",
    "                                             return_model=True,\n",
    "                                             max_iterations=max_iterations, \n",
    "                                             n_inliers_to_stop=None)\n",
    "            best_inliers = best_model.get_projections(xyz.points.values)[0] < max_dist\n",
    "            \n",
    "            print(best_model.point)\n",
    "            print(best_model.normal)\n",
    "            \n",
    "\n",
    "                ## TO DOOOOOOOOOOOOOOOOOOOOOOOOOOOOOOOOOOOOOOOOOOOOOOOOOOOOOOOOO\n",
    "                ## the inliers are not correctly classified, \n",
    "                ## probably because max dist is not a argument for single_fit. \n",
    "                ## figure this out! \n",
    "                # distances to plane = best_model.get_projections(xyz.points.values)\n",
    "\n",
    "            # create frame of uid and plane\n",
    "            ransacplane = pd.DataFrame({\n",
    "                'uid':ransac_points.uid,  \n",
    "                'plane': best_inliers.astype(np.int)\n",
    "            })\n",
    "            \n",
    "            # Copy the non-planes\n",
    "            outliers = best_model.get_projections(xyz.points.values)[0] >= max_dist\n",
    "            ransacrest = ransac_points[outliers]\n",
    "            print(np.unique(outliers, return_counts=True))\n",
    "            \n",
    "            # if oints_with_planes exists, merge the existing planes with the new found plane\n",
    "            if points_with_planes is not None:\n",
    "                points_with_planes = pd.merge(  points_with_planes, \n",
    "                                                ransacplane, \n",
    "                                                on='uid',\n",
    "                                                how='left')\n",
    "            \n",
    "            # If it does not exists, merge the initial pointcloud with found ransacplane\n",
    "            else:\n",
    "                points_with_planes = pd.merge(  pyntcloud_pts, \n",
    "                                                ransacplane, \n",
    "                                                on='uid',\n",
    "                                                how='left')\n",
    "            # if there is no column with cid, create a new one and give it all the value 10\n",
    "            if i == 0:\n",
    "                points_with_planes['cid'] = 10\n",
    "            \n",
    "            # at the \n",
    "            # points_with_planes['cid'] = points_with_planes.plane.where(points_with_planes['plane'] == 1, i+1)\n",
    "            points_with_planes['cid'] = np.where(points_with_planes['plane'] == 1, i+1, points_with_planes['cid'])\n",
    "            points_with_planes = points_with_planes.drop(['plane'], axis=1)\n",
    "\n",
    "            ransac_points = ransacrest.copy()\n",
    "            \n",
    "    return points_with_planes\n",
    "\n",
    "\n"
   ]
  },
  {
   "cell_type": "code",
   "execution_count": null,
   "metadata": {},
   "outputs": [],
   "source": []
  }
 ],
 "metadata": {
  "kernelspec": {
   "display_name": "Python 3",
   "language": "python",
   "name": "python3"
  },
  "language_info": {
   "codemirror_mode": {
    "name": "ipython",
    "version": 3
   },
   "file_extension": ".py",
   "mimetype": "text/x-python",
   "name": "python",
   "nbconvert_exporter": "python",
   "pygments_lexer": "ipython3",
   "version": "3.7.3"
  }
 },
 "nbformat": 4,
 "nbformat_minor": 2
}
