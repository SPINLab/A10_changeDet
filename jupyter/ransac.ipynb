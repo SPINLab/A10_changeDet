{
 "cells": [
  {
   "cell_type": "code",
   "execution_count": 1,
   "metadata": {},
   "outputs": [
    {
     "name": "stderr",
     "output_type": "stream",
     "text": [
      "UsageError: Line magic function `%autoreload` not found.\n"
     ]
    }
   ],
   "source": [
    "from functions import get_points, write_to_laz, find_plane, find_clusters, kmeans_clusters, recursive_planes, filter_distance, hausdorff_distance, get_relevant_cids\n",
    "\n",
    "import pandas as pd\n",
    "from pyntcloud import PyntCloud\n",
    "import numpy as np\n",
    "import pdal\n",
    "import shapely.wkt\n",
    "from numpy.lib import recfunctions as rfn\n",
    "\n",
    "import numpy as np\n",
    "import pandas as pd\n",
    "import matplotlib\n",
    "pd.options.mode.chained_assignment = None  # default='warn'\n",
    "import warnings\n",
    "warnings.simplefilter(action='ignore', category=FutureWarning)\n",
    "\n",
    "from pyntcloud import PyntCloud\n",
    "from sklearn.cluster import DBSCAN\n",
    "\n",
    "from scipy.spatial import cKDTree\n",
    "\n",
    "from pyntcloud.ransac.fitters import single_fit\n",
    "from pyntcloud.ransac.models import RansacPlane\n",
    "\n",
    "%load_ext autoreload\n",
    "%autoreload 2"
   ]
  },
  {
   "cell_type": "code",
   "execution_count": null,
   "metadata": {},
   "outputs": [],
   "source": [
    "# test_area = [117813.6,487266.1,117942.1,487370.7]\n",
    "# xmin,ymin,xmax,ymax = test_area\n",
    "\n",
    "path_a10_2018 = '/var/data/rws/data/2018/entwined/ept.json'\n",
    "path_a10_2019 = '/var/data/rws/data/2019/amsterdam_entwined/ept.json'\n",
    "\n",
    "# random area: \n",
    "# wkt = 'POLYGON((117813.6 487266.1,117813.6 487370.7,117942.1 487370.7,117942.1 487266.1,117813.6 487266.1))'\n",
    "\n",
    "# small area: \n",
    "# wkt = 'POLYGON((117813 487266,117813 487270,117815 487270,117815 487266,117813 487266))' # small! \n",
    "\n",
    "# portal:\n",
    "# wkt = 'POLYGON((118032.6 488782.8,118032.6 488793.5,118078.8 488793.5,118078.8 488782.8,118032.6 488782.8))' # portal\n",
    "\n",
    "# portal zonder palen\n",
    "# wkt = 'POLYGON((118037.0 488782.8,118037.0 488793.5,118072.0 488793.5,118072.0 488782.8,118037.0 488782.8))' # portal zonder palen\n",
    "\n",
    "# brug\n",
    "# wkt = 'POLYGON((117875.3 487304,117875.3 487329,117906.1 487329,117906.1 487304,117875.3 487304))' # brug\n",
    "\n",
    "# stukje brug\n",
    "wkt = 'POLYGON((117890.1 487311,117890.1 487312.5,117892 487312.5,117892 487311,117890.1 487311))' # brug\n",
    "\n",
    "\n",
    "xmin,ymin,xmax,ymax = shapely.wkt.loads(wkt).bounds\n",
    "\n",
    "bounds = f'([{xmin}, {xmax}], [{ymin}, {ymax}])'\n",
    "pc18 = get_points(path_a10_2018, bounds, wkt)\n",
    "print(f'loaded pc 2018')\n",
    "\n",
    "bounds = f'([{xmin}, {xmax}], [{ymin}, {ymax}])'\n",
    "pc19 = get_points(path_a10_2019, bounds, wkt)\n",
    "\n",
    "print(f'loaded pc 2019')"
   ]
  },
  {
   "cell_type": "code",
   "execution_count": null,
   "metadata": {},
   "outputs": [],
   "source": [
    "# from functions import filter_distance \n",
    "\n",
    "filtered_2019 = filter_distance(pc19, pc18)\n",
    "print('filtered')\n",
    "points_2019 = pd.DataFrame(\n",
    "    np.array(filtered_2019[['X','Y','Z','Red','Green','Blue']].tolist()), \n",
    "    columns=['x', 'y', 'z','red','green','blue'])\n",
    "print('dataframed')"
   ]
  },
  {
   "cell_type": "code",
   "execution_count": null,
   "metadata": {},
   "outputs": [],
   "source": [
    "try:\n",
    "    del points_with_planes\n",
    "except:\n",
    "    pass\n",
    "planes, models = recursive_planes(points_2019.copy(), 5, 200)\n",
    "print('fit planes')"
   ]
  },
  {
   "cell_type": "code",
   "execution_count": null,
   "metadata": {
    "scrolled": true
   },
   "outputs": [],
   "source": [
    "rel_cids = get_relevant_cids(planes)\n",
    "print(rel_cids[0], rel_cids[1])"
   ]
  },
  {
   "cell_type": "code",
   "execution_count": null,
   "metadata": {},
   "outputs": [],
   "source": [
    "ransac = rfn.append_fields(filtered_2019[['X','Y','Z','Red','Green','Blue']], \n",
    "                              'Classification', \n",
    "                              planes['cid'].astype(np.uint16),\n",
    "                              usemask=False\n",
    "                             )\n",
    "\n",
    "write_to_laz(ransac, '/var/data/rws/data/output/tst_ransac/brug_planes.laz')\n",
    "print('wrote')"
   ]
  }
 ],
 "metadata": {
  "kernelspec": {
   "display_name": "Python 3",
   "language": "python",
   "name": "python3"
  },
  "language_info": {
   "codemirror_mode": {
    "name": "ipython",
    "version": 3
   },
   "file_extension": ".py",
   "mimetype": "text/x-python",
   "name": "python",
   "nbconvert_exporter": "python",
   "pygments_lexer": "ipython3",
   "version": "3.6.8"
  }
 },
 "nbformat": 4,
 "nbformat_minor": 2
}
