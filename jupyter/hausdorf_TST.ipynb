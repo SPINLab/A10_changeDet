{
 "cells": [
  {
   "cell_type": "code",
   "execution_count": 1,
   "metadata": {},
   "outputs": [
    {
     "name": "stdout",
     "output_type": "stream",
     "text": [
      "done\n"
     ]
    }
   ],
   "source": [
    "from hausdorf_dist import get_points, write_to_laz, hausdorff_distance, filter_distance\n",
    "import numpy as np\n",
    "from scipy.spatial import cKDTree\n",
    "import pdal\n",
    "from numpy.lib import recfunctions as rfn\n",
    "\n",
    "\n",
    "READ_PIPELINE = \"\"\"\n",
    "{{\n",
    "    \"pipeline\": [\n",
    "        {{\n",
    "            \"type\": \"readers.ept\",\n",
    "            \"filename\": \"{path}\",\n",
    "            \"bounds\": \"{bounds}\"\n",
    "        }},\n",
    "        {{\n",
    "            \"type\":\"filters.crop\",\n",
    "            \"polygon\":\"{wkt}\"\n",
    "        }}\n",
    "    ]\n",
    "}}\n",
    "\"\"\"\n",
    "\n",
    "WRITE_PIPELINE = \"\"\"\n",
    "{{\n",
    "    \"pipeline\": [\n",
    "        {{\n",
    "            \"type\": \"writers.las\",\n",
    "            \"filename\": \"{path}\",\n",
    "            \"extra_dims\": \"all\"\n",
    "        }}\n",
    "    ]\n",
    "}}\n",
    "\"\"\"\n",
    "\n",
    "print( 'done')"
   ]
  },
  {
   "cell_type": "code",
   "execution_count": 2,
   "metadata": {},
   "outputs": [],
   "source": [
    "path_a10_2018 = '/var/data/rws/data/2018/entwined/ept.json'\n",
    "path_a10_2019 = '/var/data/rws/data/2019/amsterdam_entwined/ept.json'"
   ]
  },
  {
   "cell_type": "code",
   "execution_count": 3,
   "metadata": {},
   "outputs": [],
   "source": [
    "xmin, ymin, xmax, ymax = (117964.8,483470.4, 118026.0,483508.9)\n",
    "bounds = f'([{xmin}, {xmax}], [{ymin}, {ymax}])'\n",
    "# wkt = 'POLYGON((118086.081 483485.581,118074.903 483485.732,118065.581 483486.119,118056.542 483486.938,118047.62 483488.153,118039.427 483489.528,118030.678 483491.222,118019.016 483493.788,118008.571 483496.71,118001.12 483499.283,117992.838 483502.526,117984.157 483506.123,117976.422 483509.641,117967.756 483514.054,117960.784 483517.997,117954.183 483521.932,117947.879 483526.024,117947.11 483513.278,117951.731 483510.126,117960.923 483504.716,117967.435 483501.457,117975.959 483497.407,117984.403 483493.631,117990.872 483490.943,117997.782 483488.186,118006.963 483484.931,118015.923 483482.174,118015.708 483481.366,118002.074 483482.955,118000.135 483483.181,117983.637 483486.304,117970.765 483489.303,117967.445 483490.282,117955.523 483495.844,117947.998 483499.457,117943.606 483496.587,117942.175 483493.478,117941.047 483490.418,117940.646 483487.213,117945.653 483484.839,117950.911 483483.156,117966.037 483479.008,117981.592 483475.324,117997.092 483472.27,118014.693 483469.609,118031.886 483467.622,118044.005 483466.636,118057.819 483466.064,118067.851 483465.89,118080.102 483466.03,118085.655 483466.22,118084.219 483467.035,118084.421 483470.17,118084.868 483473.458,118084.257 483476.936,118081.318 483480.858,118082.203 483484.306,118086.081 483485.581))' \n",
    "# wkt = 'POLYGON((118004.2 483483.8,118004.2 483495.2,118023.3 483495.2,118023.3 483483.8,118004.2 483483.8))'\n",
    "wkt = 'POLYGON((117964.8 483470.4,117964.8 483508.9,118026 483508.9,118026 483470.4,117964.8 483470.4))'  # larger square"
   ]
  },
  {
   "cell_type": "code",
   "execution_count": 4,
   "metadata": {},
   "outputs": [],
   "source": [
    "point_cloud_1 = get_points(path_a10_2018, bounds, wkt)\n",
    "points_1 = point_cloud_1[['X', 'Y', 'Z']]\n",
    "points_1 = np.array(points_1[['X', 'Y', 'Z']].tolist())"
   ]
  },
  {
   "cell_type": "code",
   "execution_count": 5,
   "metadata": {},
   "outputs": [],
   "source": [
    "point_cloud_2 = get_points(path_a10_2019, bounds, wkt)\n",
    "points_2 = point_cloud_2[['X', 'Y', 'Z']]\n",
    "points_2 = np.array(points_2[['X', 'Y', 'Z']].tolist())"
   ]
  },
  {
   "cell_type": "code",
   "execution_count": null,
   "metadata": {},
   "outputs": [],
   "source": [
    "reference_array = np.array(point_cloud_1[['X', 'Y', 'Z']].tolist())\n",
    "compared_array = np.array(point_cloud_2[['X', 'Y', 'Z']].tolist())"
   ]
  },
  {
   "cell_type": "code",
   "execution_count": 14,
   "metadata": {},
   "outputs": [
    {
     "data": {
      "text/plain": [
       "masked_array(data=[(118011.998, 483498.33, 25.993, 29951, 38911, 45311, 0.10868762578617167),\n",
       "                   (118012.054, 483498.176, 25.993, 23039, 27135, 30975, 0.0827345151515279),\n",
       "                   (117965.187, 483494.207, 27.425, 30975, 38399, 46335, 0.20769448717811007),\n",
       "                   ...,\n",
       "                   (118022.812, 483482.961, 8.387, 36863, 30207, 26879, 0.03911521441827577),\n",
       "                   (118022.81, 483482.86, 8.391, 35839, 29183, 25343, 0.020099751231932594),\n",
       "                   (118022.818, 483482.433, 8.4, 35839, 30463, 26111, 0.01802775637530468)],\n",
       "             mask=[(False, False, False, False, False, False, False),\n",
       "                   (False, False, False, False, False, False, False),\n",
       "                   (False, False, False, False, False, False, False), ...,\n",
       "                   (False, False, False, False, False, False, False),\n",
       "                   (False, False, False, False, False, False, False),\n",
       "                   (False, False, False, False, False, False, False)],\n",
       "       fill_value=(1.e+20, 1.e+20, 1.e+20, 16959, 16959, 16959, 1.e+20),\n",
       "            dtype=[('X', '<f8'), ('Y', '<f8'), ('Z', '<f8'), ('Red', '<u2'), ('Green', '<u2'), ('Blue', '<u2'), ('Distance', '<f8')])"
      ]
     },
     "execution_count": 14,
     "metadata": {},
     "output_type": "execute_result"
    }
   ],
   "source": [
    "point_cloud_1[['X','Y','Z','Red','Green','Blue']]\n",
    "\n",
    "array_1 = np.array(point_cloud_1[['X', 'Y', 'Z']].tolist())\n",
    "array_2 = np.array(point_cloud_2[['X', 'Y', 'Z']].tolist())\n",
    "haus_distances = hausdorff_distance(array_1, array_2)\n",
    "\n",
    "out_array = rfn.append_fields(point_cloud_2[['X','Y','Z','Red','Green','Blue']], 'Distance', haus_distances)\n",
    "\n",
    "out_array"
   ]
  },
  {
   "cell_type": "code",
   "execution_count": 7,
   "metadata": {},
   "outputs": [
    {
     "name": "stderr",
     "output_type": "stream",
     "text": [
      "/home/arnot/projects/rws_pc/hausdorf_dist.py:83: FutureWarning: Using a non-tuple sequence for multidimensional indexing is deprecated; use `arr[tuple(seq)]` instead of `arr[seq]`. In the future this will be interpreted as an array index, `arr[np.array(seq)]`, which will result either in an error or a different result.\n",
      "  out_array = rfn.append_fields(compared_cloud[['X','Y','Z','Red','Green','Blue']], 'Distance', haus_distances)\n"
     ]
    },
    {
     "ename": "IndexError",
     "evalue": "only integers, slices (`:`), ellipsis (`...`), numpy.newaxis (`None`) and integer or boolean arrays are valid indices",
     "output_type": "error",
     "traceback": [
      "\u001b[0;31m---------------------------------------------------------------------------\u001b[0m",
      "\u001b[0;31mIndexError\u001b[0m                                Traceback (most recent call last)",
      "\u001b[0;32m<ipython-input-7-5f1b7f3fbc4a>\u001b[0m in \u001b[0;36m<module>\u001b[0;34m\u001b[0m\n\u001b[0;32m----> 1\u001b[0;31m \u001b[0mout_points\u001b[0m \u001b[0;34m=\u001b[0m \u001b[0mfilter_distance\u001b[0m\u001b[0;34m(\u001b[0m\u001b[0mpoint_cloud_1\u001b[0m\u001b[0;34m,\u001b[0m \u001b[0mpoint_cloud_2\u001b[0m\u001b[0;34m,\u001b[0m \u001b[0;36m0.05\u001b[0m\u001b[0;34m)\u001b[0m\u001b[0;34m\u001b[0m\u001b[0;34m\u001b[0m\u001b[0m\n\u001b[0m",
      "\u001b[0;32m~/projects/rws_pc/hausdorf_dist.py\u001b[0m in \u001b[0;36mfilter_distance\u001b[0;34m(reference_cloud, compared_cloud, max_dist)\u001b[0m\n\u001b[1;32m     81\u001b[0m                                         compared_cloud)\n\u001b[1;32m     82\u001b[0m \u001b[0;34m\u001b[0m\u001b[0m\n\u001b[0;32m---> 83\u001b[0;31m     \u001b[0mout_array\u001b[0m \u001b[0;34m=\u001b[0m \u001b[0mrfn\u001b[0m\u001b[0;34m.\u001b[0m\u001b[0mappend_fields\u001b[0m\u001b[0;34m(\u001b[0m\u001b[0mcompared_cloud\u001b[0m\u001b[0;34m[\u001b[0m\u001b[0;34m[\u001b[0m\u001b[0;34m'X'\u001b[0m\u001b[0;34m,\u001b[0m\u001b[0;34m'Y'\u001b[0m\u001b[0;34m,\u001b[0m\u001b[0;34m'Z'\u001b[0m\u001b[0;34m,\u001b[0m\u001b[0;34m'Red'\u001b[0m\u001b[0;34m,\u001b[0m\u001b[0;34m'Green'\u001b[0m\u001b[0;34m,\u001b[0m\u001b[0;34m'Blue'\u001b[0m\u001b[0;34m]\u001b[0m\u001b[0;34m]\u001b[0m\u001b[0;34m,\u001b[0m \u001b[0;34m'Distance'\u001b[0m\u001b[0;34m,\u001b[0m \u001b[0mhaus_distances\u001b[0m\u001b[0;34m)\u001b[0m\u001b[0;34m\u001b[0m\u001b[0;34m\u001b[0m\u001b[0m\n\u001b[0m\u001b[1;32m     84\u001b[0m     \u001b[0mfiltered_out_array\u001b[0m \u001b[0;34m=\u001b[0m \u001b[0mout_array\u001b[0m\u001b[0;34m[\u001b[0m\u001b[0mout_array\u001b[0m\u001b[0;34m[\u001b[0m\u001b[0;34m'Distance'\u001b[0m\u001b[0;34m]\u001b[0m \u001b[0;34m<\u001b[0m \u001b[0mmax_dist\u001b[0m\u001b[0;34m]\u001b[0m\u001b[0;34m\u001b[0m\u001b[0;34m\u001b[0m\u001b[0m\n\u001b[1;32m     85\u001b[0m \u001b[0;34m\u001b[0m\u001b[0m\n",
      "\u001b[0;31mIndexError\u001b[0m: only integers, slices (`:`), ellipsis (`...`), numpy.newaxis (`None`) and integer or boolean arrays are valid indices"
     ]
    }
   ],
   "source": [
    "out_points = filter_distance(point_cloud_1, point_cloud_2, 0.05)"
   ]
  },
  {
   "cell_type": "code",
   "execution_count": 12,
   "metadata": {},
   "outputs": [],
   "source": [
    "max_dist = 0.05 \n",
    "\n",
    "haus_distances = hausdorff_distance(points_1, points_2)\n",
    "out_array = rfn.append_fields(point_cloud_2[['X','Y','Z','Red','Green','Blue']], 'Distance', haus_distances)\n",
    "\n",
    "filtered_out_array = out_array[out_array['Distance'] < max_dist]\n",
    "write_to_laz(filtered_out_array, '/var/data/rws/data/output/test.laz')"
   ]
  },
  {
   "cell_type": "code",
   "execution_count": null,
   "metadata": {},
   "outputs": [],
   "source": [
    "\n",
    "\n",
    "out_array = np.swapaxes(np.array(\n",
    "                [point_cloud_2['X'],\n",
    "               point_cloud_2['Y'],\n",
    "               point_cloud_2['Z'],\n",
    "               point_cloud_2['Red'],\n",
    "               point_cloud_2['Green'],\n",
    "               point_cloud_2['Blue'],\n",
    "               haus_distances]\n",
    "        ),0,1)\n",
    "\n",
    "filtered_out_array = total[total[:,-1] < max_dist]\n",
    "print(filtered_out_array.shape)\n",
    "filtered_out_array.dtype = {'names':['X', 'Y', 'Z', 'Red', 'Green', 'Blue', 'Distances'], \n",
    "                            # 'formats':['<f8','<f8','<f8','<u8','<u8','<u8','<f8']}\n",
    "                            'formats':[np.float64, np.float64 ,np.float64 ,np.uint64,np.uint64,np.uint64,np.float64]}\n",
    "\n",
    "# point_cloud_1\n",
    "# np.save('/var/data/rws/data/output/test.npy',filtered_out_array)\n",
    "\n",
    "write_to_laz(filtered_out_array, '/var/data/rws/data/output/test.laz')"
   ]
  },
  {
   "cell_type": "code",
   "execution_count": null,
   "metadata": {},
   "outputs": [],
   "source": [
    "print(point_cloud_2[['Red','Green','Blue']])\n",
    "print(filtered_out_array[['Red','Green','Blue']]\n",
    "     )"
   ]
  },
  {
   "cell_type": "code",
   "execution_count": null,
   "metadata": {},
   "outputs": [],
   "source": [
    "for name in filtered_out_array.dtype.names:\n",
    "    print(name)\n",
    "    print(filtered_out_array[name].min())\n",
    "    print(filtered_out_array[name].max())\n",
    "    print(filtered_out_array[name].mean())"
   ]
  },
  {
   "cell_type": "code",
   "execution_count": null,
   "metadata": {},
   "outputs": [],
   "source": [
    "tst = np.load('/var/data/rws/data/output/test.npy')\n",
    "print(tst.shape)"
   ]
  },
  {
   "cell_type": "code",
   "execution_count": null,
   "metadata": {},
   "outputs": [],
   "source": [
    "%matplotlib notebook\n",
    "import matplotlib.pyplot as plt\n",
    "_ = plt.hist(total2[:,-1], bins='auto')  # arguments are passed to np.histogram\n",
    "plt.title(\"Histogram with 'auto' bins\")\n",
    "plt.show()"
   ]
  },
  {
   "cell_type": "code",
   "execution_count": null,
   "metadata": {},
   "outputs": [],
   "source": [
    "READ_PIPELINE = \"\"\"\n",
    "{\n",
    "    \"pipeline\": [\n",
    "        {\n",
    "            \"type\": \"readers.las\",\n",
    "            \"filename\": \"/var/data/rws/data/output/test.laz\"\n",
    "        }\n",
    "    ]\n",
    "}\n",
    "\"\"\"\n",
    "pipeline = pdal.Pipeline(READ_PIPELINE)\n",
    "pipeline.validate()\n",
    "pipeline.execute()\n",
    "point_cloud = pipeline.arrays[0]"
   ]
  },
  {
   "cell_type": "code",
   "execution_count": 15,
   "metadata": {},
   "outputs": [
    {
     "name": "stdout",
     "output_type": "stream",
     "text": [
      "117964.8 483470.4 118026.0 483508.9\n"
     ]
    }
   ],
   "source": [
    "print(xmin,ymin,xmax,ymax)"
   ]
  },
  {
   "cell_type": "code",
   "execution_count": null,
   "metadata": {},
   "outputs": [],
   "source": []
  }
 ],
 "metadata": {
  "kernelspec": {
   "display_name": "Python 3",
   "language": "python",
   "name": "python3"
  },
  "language_info": {
   "codemirror_mode": {
    "name": "ipython",
    "version": 3
   },
   "file_extension": ".py",
   "mimetype": "text/x-python",
   "name": "python",
   "nbconvert_exporter": "python",
   "pygments_lexer": "ipython3",
   "version": "3.7.3"
  }
 },
 "nbformat": 4,
 "nbformat_minor": 2
}
