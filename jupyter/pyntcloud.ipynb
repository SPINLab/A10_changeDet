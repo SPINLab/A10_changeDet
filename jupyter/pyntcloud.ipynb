{
 "cells": [
  {
   "cell_type": "code",
   "execution_count": 8,
   "metadata": {},
   "outputs": [],
   "source": [
    "import pandas as pd\n",
    "from pyntcloud import PyntCloud\n",
    "import numpy as np\n",
    "import pdal\n",
    "import shapely.wkt\n",
    "from numpy.lib import recfunctions as rfn\n"
   ]
  },
  {
   "cell_type": "code",
   "execution_count": 9,
   "metadata": {},
   "outputs": [],
   "source": [
    "def get_points(ept_path, bounds, wkt):\n",
    "    \n",
    "    READ_PIPELINE = \"\"\"\n",
    "                    {{\n",
    "                        \"pipeline\": [\n",
    "                            {{\n",
    "                                \"type\": \"readers.ept\",\n",
    "                                \"filename\": \"{path}\",\n",
    "                                \"bounds\": \"{bounds}\"\n",
    "                            }},\n",
    "                            {{\n",
    "                                \"type\":\"filters.crop\",\n",
    "                                \"polygon\":\"{wkt}\"\n",
    "                            }}\n",
    "                        ]\n",
    "                    }}\n",
    "                    \"\"\"\n",
    "    \n",
    "    pipeline = pdal.Pipeline(READ_PIPELINE.format(\n",
    "        path=ept_path,\n",
    "        bounds=bounds,\n",
    "        wkt=wkt)\n",
    "    )\n",
    "\n",
    "    pipeline.validate()\n",
    "    pipeline.execute()\n",
    "    point_cloud = pipeline.arrays[0]\n",
    "\n",
    "    return point_cloud\n",
    "\n",
    "\n",
    "\n",
    "def write_to_laz(point_cloud, path):\n",
    "    \n",
    "    WRITE_PIPELINE = \"\"\"\n",
    "    {{\n",
    "        \"pipeline\": [\n",
    "            {{\n",
    "                \"type\": \"writers.las\",\n",
    "                \"filename\": \"{path}\",\n",
    "                \"extra_dims\": \"all\"\n",
    "            }}\n",
    "        ]\n",
    "    }}\n",
    "    \"\"\"\n",
    "    pipeline = pdal.Pipeline(\n",
    "        WRITE_PIPELINE.format(path=path),\n",
    "        arrays=[point_cloud]\n",
    "    )\n",
    "    pipeline.validate()\n",
    "    pipeline.execute()\n"
   ]
  },
  {
   "cell_type": "code",
   "execution_count": 10,
   "metadata": {},
   "outputs": [
    {
     "name": "stdout",
     "output_type": "stream",
     "text": [
      "loaded pc 1\n"
     ]
    }
   ],
   "source": [
    "test_area = [117813.6,487266.1,117942.1,487370.7]\n",
    "xmin,ymin,xmax,ymax = test_area\n",
    "\n",
    "path_a10_2018 = '/var/data/rws/data/2018/entwined/ept.json'\n",
    "path_a10_2019 = '/var/data/rws/data/2019/amsterdam_entwined/ept.json'\n",
    "\n",
    "# random area: \n",
    "# wkt = 'POLYGON((117813.6 487266.1,117813.6 487370.7,117942.1 487370.7,117942.1 487266.1,117813.6 487266.1))'\n",
    "\n",
    "# small area: \n",
    "wkt = 'POLYGON((117813 487266,117813 487270,117815 487270,117815 487266,117813 487266))' # small! \n",
    "\n",
    "# portal:\n",
    "# wkt = 'POLYGON((118032.6 488782.8,118032.6 488793.5,118078.8 488793.5,118078.8 488782.8,118032.6 488782.8))' # portal\n",
    "xmin,ymin,xmax,ymax = shapely.wkt.loads(wkt).bounds\n",
    "\n",
    "bounds = f'([{xmin}, {xmax}], [{ymin}, {ymax}])'\n",
    "pc1 = get_points(path_a10_2018, bounds, wkt)\n",
    "print(f'loaded pc 1')"
   ]
  },
  {
   "cell_type": "code",
   "execution_count": 11,
   "metadata": {},
   "outputs": [],
   "source": [
    "pcdf = pd.DataFrame(np.array(pc1[['X','Y','Z','Red','Green','Blue']].tolist()), \n",
    "            columns=['x', 'y', 'z','red','green','blue'])\n",
    "\n"
   ]
  },
  {
   "cell_type": "code",
   "execution_count": null,
   "metadata": {},
   "outputs": [],
   "source": [
    "pcdf = pd.DataFrame(np.array(pc1[['X','Y','Z']].tolist()), \n",
    "            columns=['x', 'y', 'z'])\n",
    "\n"
   ]
  },
  {
   "cell_type": "code",
   "execution_count": 12,
   "metadata": {},
   "outputs": [],
   "source": [
    "import numpy as np\n",
    "import pandas as pd\n",
    "import matplotlib\n",
    "pd.options.mode.chained_assignment = None  # default='warn'\n",
    "import warnings\n",
    "warnings.simplefilter(action='ignore', category=FutureWarning)\n",
    "\n",
    "from pyntcloud import PyntCloud\n",
    "from sklearn.cluster import DBSCAN\n",
    "\n",
    "\n",
    "min_size = 3\n",
    "ransac_distance = 0.2\n",
    "ransac_iterations = 1000\n",
    "dbscan_distance = 1\n",
    "dbscan_min_samples = 8\n",
    "\n",
    "\n",
    "points = pd.DataFrame(\n",
    "    np.array(pc1[['X','Y','Z']].tolist()), \n",
    "    columns=['x', 'y', 'z']\n",
    ")\n",
    "\n",
    "points_df = pd.DataFrame(np.array(pc1[['X','Y','Z','Red','Green','Blue']].tolist()), \n",
    "            columns=['x', 'y', 'z','red','green','blue'])\n",
    "\n",
    "# points = np.array((x, y, z)).T\n",
    "# points=pd.DataFrame(points,columns=['x','y','z'])\n",
    "roof = PyntCloud(points)\n",
    "#plpy.warning('Roofpoints in: ',len(roof.points))\n",
    "\n",
    "eps1 = 1.2\n",
    "min_size1 = 8\n",
    "eps2 = 0.8\n",
    "min_size2 = 6\n"
   ]
  },
  {
   "cell_type": "code",
   "execution_count": 22,
   "metadata": {},
   "outputs": [],
   "source": [
    "ins, outs = find_plane(points_df)"
   ]
  },
  {
   "cell_type": "code",
   "execution_count": 14,
   "metadata": {},
   "outputs": [
    {
     "name": "stdout",
     "output_type": "stream",
     "text": [
      "(210, 7) [210]\n",
      "              x           y      z      red    green     blue  is_plane\n",
      "0    117813.889  487269.025  4.504  33791.0  25855.0  20479.0         1\n",
      "1    117813.492  487266.317  4.491  32511.0  24063.0  19967.0         1\n",
      "2    117814.257  487266.111  4.548  32767.0  25343.0  21503.0         1\n",
      "3    117813.550  487267.833  4.486  36095.0  26623.0  22783.0         1\n",
      "4    117814.275  487266.978  4.489  35327.0  24575.0  20991.0         1\n",
      "5    117813.348  487268.739  4.461  37375.0  26367.0  22271.0         1\n",
      "6    117814.348  487268.655  4.492  37119.0  26111.0  22015.0         1\n",
      "7    117813.954  487269.262  4.477  35583.0  24319.0  20223.0         1\n",
      "8    117814.969  487268.586  4.515  36607.0  25599.0  22271.0         1\n",
      "9    117813.672  487269.399  4.476  34559.0  24063.0  20735.0         1\n",
      "10   117813.483  487267.144  4.450  34303.0  22015.0  18943.0         1\n",
      "11   117814.185  487267.697  4.449  34815.0  23807.0  19711.0         1\n",
      "12   117813.030  487266.521  4.490  34559.0  24575.0  20735.0         1\n",
      "13   117813.074  487268.243  4.509  36607.0  25087.0  20223.0         1\n",
      "14   117814.544  487266.620  4.537  33791.0  23807.0  19455.0         1\n",
      "15   117814.703  487268.278  4.527  33023.0  24831.0  19711.0         1\n",
      "16   117814.696  487269.792  4.471  27135.0  22015.0  14591.0         1\n",
      "17   117813.238  487269.786  4.533  20991.0  18687.0  10239.0         1\n",
      "18   117813.001  487269.935  4.472  15359.0  14335.0  12287.0         1\n",
      "19   117813.683  487267.520  4.524  34303.0  25855.0  23295.0         1\n",
      "20   117814.129  487267.190  4.538  36095.0  26111.0  22527.0         1\n",
      "21   117814.023  487268.015  4.536  35327.0  25343.0  21503.0         1\n",
      "22   117814.896  487268.458  4.563  27647.0  22783.0  17151.0         1\n",
      "23   117813.720  487268.449  4.545  36095.0  24831.0  19711.0         1\n",
      "24   117814.801  487268.912  4.593  25855.0  20479.0  13823.0         1\n",
      "25   117813.217  487267.344  4.511  36863.0  26879.0  22527.0         1\n",
      "26   117814.363  487267.122  4.549  33279.0  23551.0  19967.0         1\n",
      "27   117813.149  487267.923  4.517  36863.0  25855.0  22271.0         1\n",
      "28   117813.726  487268.653  4.532  30975.0  23807.0  20735.0         1\n",
      "29   117814.888  487266.353  4.540  33023.0  23551.0  19455.0         1\n",
      "..          ...         ...    ...      ...      ...      ...       ...\n",
      "180  117814.238  487267.444  4.489  36095.0  25343.0  21759.0         1\n",
      "181  117813.496  487266.818  4.449  34559.0  23807.0  20223.0         1\n",
      "182  117813.974  487267.269  4.474  36095.0  25343.0  21759.0         1\n",
      "183  117813.139  487268.621  4.450  37631.0  26623.0  22527.0         1\n",
      "184  117814.131  487268.504  4.477  37119.0  26111.0  22015.0         1\n",
      "185  117814.856  487269.427  4.625  23295.0  21503.0  12799.0         1\n",
      "186  117813.416  487266.659  4.441  35327.0  25343.0  22015.0         1\n",
      "187  117814.402  487266.581  4.472  33791.0  23551.0  20479.0         1\n",
      "188  117813.749  487267.866  4.468  36863.0  25855.0  21759.0         1\n",
      "189  117814.699  487267.754  4.493  37119.0  26111.0  22015.0         1\n",
      "190  117814.890  487268.957  4.508  35583.0  24575.0  21247.0         1\n",
      "191  117813.245  487268.241  4.466  37119.0  26111.0  22015.0         1\n",
      "192  117814.240  487268.088  4.493  37119.0  26111.0  22015.0         1\n",
      "193  117813.001  487268.992  4.458  37375.0  26367.0  22271.0         1\n",
      "194  117813.730  487266.668  4.458  31999.0  23807.0  19199.0         1\n",
      "195  117814.677  487266.527  4.485  32255.0  22527.0  18687.0         1\n",
      "196  117814.685  487269.141  4.508   6655.0   7679.0   6399.0         1\n",
      "197  117814.615  487267.137  4.502  33791.0  22527.0  19711.0         1\n",
      "198  117814.598  487266.039  4.560  26879.0  22271.0  19711.0         1\n",
      "199  117814.812  487266.111  4.507  25343.0  22527.0  19455.0         1\n",
      "200  117814.488  487266.907  4.478  33023.0  21759.0  18943.0         1\n",
      "201  117814.239  487268.389  4.474  34815.0  23807.0  20991.0         1\n",
      "202  117813.077  487266.340  4.504  34559.0  32255.0  28671.0         1\n",
      "203  117813.013  487267.967  4.435  34815.0  23807.0  19711.0         1\n",
      "204  117813.704  487267.057  4.450  34303.0  22015.0  18943.0         1\n",
      "205  117814.694  487266.770  4.481  33023.0  21759.0  18943.0         1\n",
      "206  117814.269  487268.399  4.462  35071.0  24575.0  22015.0         1\n",
      "207  117813.099  487268.069  4.415  35071.0  24063.0  19967.0         1\n",
      "208  117814.013  487267.060  4.437  33279.0  22015.0  19199.0         1\n",
      "209  117814.532  487266.117  4.507  41215.0  36607.0  34047.0         1\n",
      "\n",
      "[210 rows x 7 columns]\n"
     ]
    }
   ],
   "source": [
    "\n",
    "print(points_df.shape, \n",
    "      np.array(ins['is_plane'].shape))\n",
    "\n",
    "print(points_df)"
   ]
  },
  {
   "cell_type": "code",
   "execution_count": 21,
   "metadata": {},
   "outputs": [
    {
     "name": "stdout",
     "output_type": "stream",
     "text": [
      "(210, 7) [210]\n",
      "('x', 'y', 'z', 'red', 'green', 'blue', 'is_plane', True)\n"
     ]
    }
   ],
   "source": [
    "# np.ndarray(ins)\n",
    "# points\n",
    "print(points_df.shape, \n",
    "      np.array(ins['is_plane'].shape)\n",
    "     )\n",
    "\n",
    "out_array = rfn.append_fields(points_df, \n",
    "                              'cid', \n",
    "                              np.array(ins['is_plane']),\n",
    "                              dtypes= '?'\n",
    "                             )\n",
    "\n",
    "print(out_array[0])\n",
    "\n",
    "# write_to_laz(out_array, '/var/data/rws/data/output/tst_c1.laz')"
   ]
  },
  {
   "cell_type": "code",
   "execution_count": 52,
   "metadata": {},
   "outputs": [],
   "source": [
    "def find_clusters(points, eps, min_samples):\n",
    "    df = points[[\"x\", \"y\",\"z\"]]\n",
    "    db = DBSCAN(eps=eps, min_samples=min_samples)\n",
    "    dbsc = db.fit(df)\n",
    "    labels = dbsc.labels_\n",
    "    core_samples = np.zeros_like(labels, dtype = bool)\n",
    "    core_samples[dbsc.core_sample_indices_] = True\n",
    "    points[\"coresample\"]= core_samples\n",
    "    points[\"cluster\"] = dbsc.labels_\n",
    "    return points\n",
    "\n",
    "def find_plane(points):\n",
    "    pointcloud = PyntCloud(points)\n",
    "    pointcloud.add_scalar_field(\"plane_fit\",\n",
    "                                max_dist=ransac_distance, \n",
    "                                max_iterations=ransac_iterations, \n",
    "                                n_inliers_to_stop=None)\n",
    "    \n",
    "    inliers = pointcloud.points[pointcloud.points.is_plane == 1]\n",
    "    outliers = pointcloud.points[pointcloud.points.is_plane == 0]\n",
    "    \n",
    "    return inliers, outliers\n",
    "\n",
    "global planes\n",
    "planes=pd.DataFrame(columns=['x','y','z','cid'])\n",
    "def recurse(roof,cid):\n",
    "    global planes\n",
    "    #plpy.warning('Iter ',cid,' with ',len(roof.points),'points')\n",
    "    rest=pd.DataFrame(columns=['x','y','z'])\n",
    "    \n",
    "    points = find_clusters(roof.points,eps1,min_size1) #split clusters and remove garbage\n",
    "    clusters = points[(points.cluster >= 0)]\n",
    "    _ = points[(points.cluster < 0)]\n",
    "    counts = np.bincount(clusters['cluster'])\n",
    "    #max = np.argmax(counts)\n",
    "    #maxcluster = clusters[clusters.cluster == max]\n",
    "    #restcluster = clusters[clusters.cluster != max]\n",
    "    \n",
    "    if len(clusters) > 0:\n",
    "      planeinliers, planeoutliers = find_plane(clusters) #find best plane, keep remainder\n",
    "      \n",
    "      points = find_clusters(planeinliers,eps2,min_size2) #split plane in possible clusters, keep remainder\n",
    "      clusterinliers = points[(points.cluster >= 0) & (points.coresample == True)]\n",
    "      clusteroutliers = points[(points.cluster < 0) | ((points.cluster < 0) & (points.coresample == False))]\n",
    "\n",
    "      rest = pd.concat([rest,planeoutliers,clusteroutliers]) #keep all remainders for further use\n",
    "      if len(clusterinliers) > min_size:\n",
    "          #print(' ',clusterinliers['cluster'].max() + 1, 'clusters will be added')\n",
    "          for name, group in clusterinliers.groupby('cluster'): \n",
    "              cid = cid + 1\n",
    "              group['cid'] = cid #assign a value to the newly found cluster\n",
    "              planes = pd.concat([planes,group]) #add to the plane stack\n",
    "    else:\n",
    "      return\n",
    "    #plpy.warning('Number of rest points: ', len(rest))\n",
    "    if len(rest) <= min_size or cid > 100 or len(rest) == len(roof.points):\n",
    "      return\n",
    "    else:\n",
    "      recurse(PyntCloud(rest),cid)"
   ]
  },
  {
   "cell_type": "code",
   "execution_count": 49,
   "metadata": {},
   "outputs": [
    {
     "name": "stdout",
     "output_type": "stream",
     "text": [
      "(210, 3)\n",
      "(209,)\n",
      "(210,)\n"
     ]
    }
   ],
   "source": [
    "print(points.shape)\n",
    "print(planes['cid'].shape)\n",
    "print(pc1.shape)"
   ]
  },
  {
   "cell_type": "code",
   "execution_count": 65,
   "metadata": {},
   "outputs": [
    {
     "name": "stdout",
     "output_type": "stream",
     "text": [
      "(0, 10)\n"
     ]
    },
    {
     "ename": "TypeError",
     "evalue": "Cannot change data-type for object array.",
     "output_type": "error",
     "traceback": [
      "\u001b[0;31m---------------------------------------------------------------------------\u001b[0m",
      "\u001b[0;31mTypeError\u001b[0m                                 Traceback (most recent call last)",
      "\u001b[0;32m<ipython-input-65-d8f326874fa2>\u001b[0m in \u001b[0;36m<module>\u001b[0;34m\u001b[0m\n\u001b[1;32m      5\u001b[0m out_array = rfn.append_fields(pc1[['X','Y','Z','Red','Green','Blue']], \n\u001b[1;32m      6\u001b[0m                                 \u001b[0;34m'cid'\u001b[0m\u001b[0;34m,\u001b[0m\u001b[0;34m\u001b[0m\u001b[0;34m\u001b[0m\u001b[0m\n\u001b[0;32m----> 7\u001b[0;31m                                 planes['cid'])\n\u001b[0m\u001b[1;32m      8\u001b[0m \u001b[0;34m\u001b[0m\u001b[0m\n\u001b[1;32m      9\u001b[0m \u001b[0mprint\u001b[0m\u001b[0;34m(\u001b[0m\u001b[0mout_array\u001b[0m\u001b[0;34m.\u001b[0m\u001b[0mshape\u001b[0m\u001b[0;34m)\u001b[0m\u001b[0;34m\u001b[0m\u001b[0;34m\u001b[0m\u001b[0m\n",
      "\u001b[0;32m/usr/local/lib/python3.7/dist-packages/numpy/lib/recfunctions.py\u001b[0m in \u001b[0;36mappend_fields\u001b[0;34m(base, names, data, dtypes, fill_value, usemask, asrecarray)\u001b[0m\n\u001b[1;32m    718\u001b[0m     \u001b[0;32mif\u001b[0m \u001b[0mdtypes\u001b[0m \u001b[0;32mis\u001b[0m \u001b[0;32mNone\u001b[0m\u001b[0;34m:\u001b[0m\u001b[0;34m\u001b[0m\u001b[0;34m\u001b[0m\u001b[0m\n\u001b[1;32m    719\u001b[0m         \u001b[0mdata\u001b[0m \u001b[0;34m=\u001b[0m \u001b[0;34m[\u001b[0m\u001b[0mnp\u001b[0m\u001b[0;34m.\u001b[0m\u001b[0marray\u001b[0m\u001b[0;34m(\u001b[0m\u001b[0ma\u001b[0m\u001b[0;34m,\u001b[0m \u001b[0mcopy\u001b[0m\u001b[0;34m=\u001b[0m\u001b[0;32mFalse\u001b[0m\u001b[0;34m,\u001b[0m \u001b[0msubok\u001b[0m\u001b[0;34m=\u001b[0m\u001b[0;32mTrue\u001b[0m\u001b[0;34m)\u001b[0m \u001b[0;32mfor\u001b[0m \u001b[0ma\u001b[0m \u001b[0;32min\u001b[0m \u001b[0mdata\u001b[0m\u001b[0;34m]\u001b[0m\u001b[0;34m\u001b[0m\u001b[0;34m\u001b[0m\u001b[0m\n\u001b[0;32m--> 720\u001b[0;31m         \u001b[0mdata\u001b[0m \u001b[0;34m=\u001b[0m \u001b[0;34m[\u001b[0m\u001b[0ma\u001b[0m\u001b[0;34m.\u001b[0m\u001b[0mview\u001b[0m\u001b[0;34m(\u001b[0m\u001b[0;34m[\u001b[0m\u001b[0;34m(\u001b[0m\u001b[0mname\u001b[0m\u001b[0;34m,\u001b[0m \u001b[0ma\u001b[0m\u001b[0;34m.\u001b[0m\u001b[0mdtype\u001b[0m\u001b[0;34m)\u001b[0m\u001b[0;34m]\u001b[0m\u001b[0;34m)\u001b[0m \u001b[0;32mfor\u001b[0m \u001b[0;34m(\u001b[0m\u001b[0mname\u001b[0m\u001b[0;34m,\u001b[0m \u001b[0ma\u001b[0m\u001b[0;34m)\u001b[0m \u001b[0;32min\u001b[0m \u001b[0mzip\u001b[0m\u001b[0;34m(\u001b[0m\u001b[0mnames\u001b[0m\u001b[0;34m,\u001b[0m \u001b[0mdata\u001b[0m\u001b[0;34m)\u001b[0m\u001b[0;34m]\u001b[0m\u001b[0;34m\u001b[0m\u001b[0;34m\u001b[0m\u001b[0m\n\u001b[0m\u001b[1;32m    721\u001b[0m     \u001b[0;32melse\u001b[0m\u001b[0;34m:\u001b[0m\u001b[0;34m\u001b[0m\u001b[0;34m\u001b[0m\u001b[0m\n\u001b[1;32m    722\u001b[0m         \u001b[0;32mif\u001b[0m \u001b[0;32mnot\u001b[0m \u001b[0misinstance\u001b[0m\u001b[0;34m(\u001b[0m\u001b[0mdtypes\u001b[0m\u001b[0;34m,\u001b[0m \u001b[0;34m(\u001b[0m\u001b[0mtuple\u001b[0m\u001b[0;34m,\u001b[0m \u001b[0mlist\u001b[0m\u001b[0;34m)\u001b[0m\u001b[0;34m)\u001b[0m\u001b[0;34m:\u001b[0m\u001b[0;34m\u001b[0m\u001b[0;34m\u001b[0m\u001b[0m\n",
      "\u001b[0;32m/usr/local/lib/python3.7/dist-packages/numpy/lib/recfunctions.py\u001b[0m in \u001b[0;36m<listcomp>\u001b[0;34m(.0)\u001b[0m\n\u001b[1;32m    718\u001b[0m     \u001b[0;32mif\u001b[0m \u001b[0mdtypes\u001b[0m \u001b[0;32mis\u001b[0m \u001b[0;32mNone\u001b[0m\u001b[0;34m:\u001b[0m\u001b[0;34m\u001b[0m\u001b[0;34m\u001b[0m\u001b[0m\n\u001b[1;32m    719\u001b[0m         \u001b[0mdata\u001b[0m \u001b[0;34m=\u001b[0m \u001b[0;34m[\u001b[0m\u001b[0mnp\u001b[0m\u001b[0;34m.\u001b[0m\u001b[0marray\u001b[0m\u001b[0;34m(\u001b[0m\u001b[0ma\u001b[0m\u001b[0;34m,\u001b[0m \u001b[0mcopy\u001b[0m\u001b[0;34m=\u001b[0m\u001b[0;32mFalse\u001b[0m\u001b[0;34m,\u001b[0m \u001b[0msubok\u001b[0m\u001b[0;34m=\u001b[0m\u001b[0;32mTrue\u001b[0m\u001b[0;34m)\u001b[0m \u001b[0;32mfor\u001b[0m \u001b[0ma\u001b[0m \u001b[0;32min\u001b[0m \u001b[0mdata\u001b[0m\u001b[0;34m]\u001b[0m\u001b[0;34m\u001b[0m\u001b[0;34m\u001b[0m\u001b[0m\n\u001b[0;32m--> 720\u001b[0;31m         \u001b[0mdata\u001b[0m \u001b[0;34m=\u001b[0m \u001b[0;34m[\u001b[0m\u001b[0ma\u001b[0m\u001b[0;34m.\u001b[0m\u001b[0mview\u001b[0m\u001b[0;34m(\u001b[0m\u001b[0;34m[\u001b[0m\u001b[0;34m(\u001b[0m\u001b[0mname\u001b[0m\u001b[0;34m,\u001b[0m \u001b[0ma\u001b[0m\u001b[0;34m.\u001b[0m\u001b[0mdtype\u001b[0m\u001b[0;34m)\u001b[0m\u001b[0;34m]\u001b[0m\u001b[0;34m)\u001b[0m \u001b[0;32mfor\u001b[0m \u001b[0;34m(\u001b[0m\u001b[0mname\u001b[0m\u001b[0;34m,\u001b[0m \u001b[0ma\u001b[0m\u001b[0;34m)\u001b[0m \u001b[0;32min\u001b[0m \u001b[0mzip\u001b[0m\u001b[0;34m(\u001b[0m\u001b[0mnames\u001b[0m\u001b[0;34m,\u001b[0m \u001b[0mdata\u001b[0m\u001b[0;34m)\u001b[0m\u001b[0;34m]\u001b[0m\u001b[0;34m\u001b[0m\u001b[0;34m\u001b[0m\u001b[0m\n\u001b[0m\u001b[1;32m    721\u001b[0m     \u001b[0;32melse\u001b[0m\u001b[0;34m:\u001b[0m\u001b[0;34m\u001b[0m\u001b[0;34m\u001b[0m\u001b[0m\n\u001b[1;32m    722\u001b[0m         \u001b[0;32mif\u001b[0m \u001b[0;32mnot\u001b[0m \u001b[0misinstance\u001b[0m\u001b[0;34m(\u001b[0m\u001b[0mdtypes\u001b[0m\u001b[0;34m,\u001b[0m \u001b[0;34m(\u001b[0m\u001b[0mtuple\u001b[0m\u001b[0;34m,\u001b[0m \u001b[0mlist\u001b[0m\u001b[0;34m)\u001b[0m\u001b[0;34m)\u001b[0m\u001b[0;34m:\u001b[0m\u001b[0;34m\u001b[0m\u001b[0;34m\u001b[0m\u001b[0m\n",
      "\u001b[0;32m/usr/local/lib/python3.7/dist-packages/numpy/core/_internal.py\u001b[0m in \u001b[0;36m_view_is_safe\u001b[0;34m(oldtype, newtype)\u001b[0m\n\u001b[1;32m    492\u001b[0m \u001b[0;34m\u001b[0m\u001b[0m\n\u001b[1;32m    493\u001b[0m     \u001b[0;32mif\u001b[0m \u001b[0mnewtype\u001b[0m\u001b[0;34m.\u001b[0m\u001b[0mhasobject\u001b[0m \u001b[0;32mor\u001b[0m \u001b[0moldtype\u001b[0m\u001b[0;34m.\u001b[0m\u001b[0mhasobject\u001b[0m\u001b[0;34m:\u001b[0m\u001b[0;34m\u001b[0m\u001b[0;34m\u001b[0m\u001b[0m\n\u001b[0;32m--> 494\u001b[0;31m         \u001b[0;32mraise\u001b[0m \u001b[0mTypeError\u001b[0m\u001b[0;34m(\u001b[0m\u001b[0;34m\"Cannot change data-type for object array.\"\u001b[0m\u001b[0;34m)\u001b[0m\u001b[0;34m\u001b[0m\u001b[0;34m\u001b[0m\u001b[0m\n\u001b[0m\u001b[1;32m    495\u001b[0m     \u001b[0;32mreturn\u001b[0m\u001b[0;34m\u001b[0m\u001b[0;34m\u001b[0m\u001b[0m\n\u001b[1;32m    496\u001b[0m \u001b[0;34m\u001b[0m\u001b[0m\n",
      "\u001b[0;31mTypeError\u001b[0m: Cannot change data-type for object array."
     ]
    }
   ],
   "source": [
    "roof.points[\"cid\"] = -1\n",
    "recurse(roof,0)\n",
    "# points = np.array((planes['x'], planes['y'],planes['z'],planes['cid'])).T\n",
    "\n",
    "\n",
    "# write_to_laz(out_array, '/var/data/rws/data/output/tst_c1.laz')"
   ]
  },
  {
   "cell_type": "code",
   "execution_count": 44,
   "metadata": {},
   "outputs": [
    {
     "data": {
      "text/html": [
       "<div>\n",
       "<style scoped>\n",
       "    .dataframe tbody tr th:only-of-type {\n",
       "        vertical-align: middle;\n",
       "    }\n",
       "\n",
       "    .dataframe tbody tr th {\n",
       "        vertical-align: top;\n",
       "    }\n",
       "\n",
       "    .dataframe thead th {\n",
       "        text-align: right;\n",
       "    }\n",
       "</style>\n",
       "<table border=\"1\" class=\"dataframe\">\n",
       "  <thead>\n",
       "    <tr style=\"text-align: right;\">\n",
       "      <th></th>\n",
       "      <th>x</th>\n",
       "      <th>y</th>\n",
       "      <th>z</th>\n",
       "      <th>cid</th>\n",
       "    </tr>\n",
       "  </thead>\n",
       "  <tbody>\n",
       "  </tbody>\n",
       "</table>\n",
       "</div>"
      ],
      "text/plain": [
       "Empty DataFrame\n",
       "Columns: [x, y, z, cid]\n",
       "Index: []"
      ]
     },
     "execution_count": 44,
     "metadata": {},
     "output_type": "execute_result"
    }
   ],
   "source": [
    "planes"
   ]
  },
  {
   "cell_type": "code",
   "execution_count": 19,
   "metadata": {},
   "outputs": [
    {
     "name": "stdout",
     "output_type": "stream",
     "text": [
      "(array([1], dtype=object), array([209]))\n"
     ]
    }
   ],
   "source": [
    "print(np.unique(planes['cid'], return_counts =True))\n",
    "c1 = points[points[:,3] == 1][:,0:3]\n",
    "c2 = points[points[:,3] == 2][:,0:3]\n"
   ]
  },
  {
   "cell_type": "code",
   "execution_count": 20,
   "metadata": {},
   "outputs": [
    {
     "name": "stdout",
     "output_type": "stream",
     "text": [
      "(209, 3)\n"
     ]
    },
    {
     "ename": "RuntimeError",
     "evalue": "Array without fields must have 3 dimensions.",
     "output_type": "error",
     "traceback": [
      "\u001b[0;31m---------------------------------------------------------------------------\u001b[0m",
      "\u001b[0;31mRuntimeError\u001b[0m                              Traceback (most recent call last)",
      "\u001b[0;32m<ipython-input-20-c9fadbb895e3>\u001b[0m in \u001b[0;36m<module>\u001b[0;34m\u001b[0m\n\u001b[1;32m      1\u001b[0m \u001b[0mprint\u001b[0m\u001b[0;34m(\u001b[0m\u001b[0mc1\u001b[0m\u001b[0;34m.\u001b[0m\u001b[0mshape\u001b[0m\u001b[0;34m)\u001b[0m\u001b[0;34m\u001b[0m\u001b[0;34m\u001b[0m\u001b[0m\n\u001b[0;32m----> 2\u001b[0;31m \u001b[0mwrite_to_laz\u001b[0m\u001b[0;34m(\u001b[0m\u001b[0mc1\u001b[0m\u001b[0;34m,\u001b[0m \u001b[0;34m'/var/data/rws/data/output/tst_portal_c1.laz'\u001b[0m\u001b[0;34m)\u001b[0m\u001b[0;34m\u001b[0m\u001b[0;34m\u001b[0m\u001b[0m\n\u001b[0m\u001b[1;32m      3\u001b[0m \u001b[0mprint\u001b[0m\u001b[0;34m(\u001b[0m\u001b[0mc2\u001b[0m\u001b[0;34m.\u001b[0m\u001b[0mshape\u001b[0m\u001b[0;34m)\u001b[0m\u001b[0;34m\u001b[0m\u001b[0;34m\u001b[0m\u001b[0m\n\u001b[1;32m      4\u001b[0m \u001b[0mwrite_to_laz\u001b[0m\u001b[0;34m(\u001b[0m\u001b[0mc2\u001b[0m\u001b[0;34m,\u001b[0m \u001b[0;34m'/var/data/rws/data/output/tst_portal_c2.laz'\u001b[0m\u001b[0;34m)\u001b[0m\u001b[0;34m\u001b[0m\u001b[0;34m\u001b[0m\u001b[0m\n\u001b[1;32m      5\u001b[0m \u001b[0mprint\u001b[0m\u001b[0;34m(\u001b[0m\u001b[0;34m'done'\u001b[0m\u001b[0;34m)\u001b[0m\u001b[0;34m\u001b[0m\u001b[0;34m\u001b[0m\u001b[0m\n",
      "\u001b[0;32m<ipython-input-18-7a03aef20c03>\u001b[0m in \u001b[0;36mwrite_to_laz\u001b[0;34m(point_cloud, path)\u001b[0m\n\u001b[1;32m     46\u001b[0m     pipeline = pdal.Pipeline(\n\u001b[1;32m     47\u001b[0m         \u001b[0mWRITE_PIPELINE\u001b[0m\u001b[0;34m.\u001b[0m\u001b[0mformat\u001b[0m\u001b[0;34m(\u001b[0m\u001b[0mpath\u001b[0m\u001b[0;34m=\u001b[0m\u001b[0mpath\u001b[0m\u001b[0;34m)\u001b[0m\u001b[0;34m,\u001b[0m\u001b[0;34m\u001b[0m\u001b[0;34m\u001b[0m\u001b[0m\n\u001b[0;32m---> 48\u001b[0;31m         \u001b[0marrays\u001b[0m\u001b[0;34m=\u001b[0m\u001b[0;34m[\u001b[0m\u001b[0mpoint_cloud\u001b[0m\u001b[0;34m]\u001b[0m\u001b[0;34m\u001b[0m\u001b[0;34m\u001b[0m\u001b[0m\n\u001b[0m\u001b[1;32m     49\u001b[0m     )\n\u001b[1;32m     50\u001b[0m     \u001b[0mpipeline\u001b[0m\u001b[0;34m.\u001b[0m\u001b[0mvalidate\u001b[0m\u001b[0;34m(\u001b[0m\u001b[0;34m)\u001b[0m\u001b[0;34m\u001b[0m\u001b[0;34m\u001b[0m\u001b[0m\n",
      "\u001b[0;32m/usr/local/lib/python3.7/dist-packages/pdal/pipeline.py\u001b[0m in \u001b[0;36m__init__\u001b[0;34m(self, json, arrays)\u001b[0m\n\u001b[1;32m     10\u001b[0m \u001b[0;34m\u001b[0m\u001b[0m\n\u001b[1;32m     11\u001b[0m         \u001b[0;32mif\u001b[0m \u001b[0marrays\u001b[0m\u001b[0;34m:\u001b[0m\u001b[0;34m\u001b[0m\u001b[0;34m\u001b[0m\u001b[0m\n\u001b[0;32m---> 12\u001b[0;31m             \u001b[0mself\u001b[0m\u001b[0;34m.\u001b[0m\u001b[0mp\u001b[0m \u001b[0;34m=\u001b[0m \u001b[0mlibpdalpython\u001b[0m\u001b[0;34m.\u001b[0m\u001b[0mPyPipeline\u001b[0m\u001b[0;34m(\u001b[0m\u001b[0mjson\u001b[0m\u001b[0;34m,\u001b[0m \u001b[0marrays\u001b[0m\u001b[0;34m)\u001b[0m\u001b[0;34m\u001b[0m\u001b[0;34m\u001b[0m\u001b[0m\n\u001b[0m\u001b[1;32m     13\u001b[0m         \u001b[0;32melse\u001b[0m\u001b[0;34m:\u001b[0m\u001b[0;34m\u001b[0m\u001b[0;34m\u001b[0m\u001b[0m\n\u001b[1;32m     14\u001b[0m             \u001b[0mself\u001b[0m\u001b[0;34m.\u001b[0m\u001b[0mp\u001b[0m \u001b[0;34m=\u001b[0m \u001b[0mlibpdalpython\u001b[0m\u001b[0;34m.\u001b[0m\u001b[0mPyPipeline\u001b[0m\u001b[0;34m(\u001b[0m\u001b[0mjson\u001b[0m\u001b[0;34m)\u001b[0m\u001b[0;34m\u001b[0m\u001b[0;34m\u001b[0m\u001b[0m\n",
      "\u001b[0;32mpdal/libpdalpython.pyx\u001b[0m in \u001b[0;36mpdal.libpdalpython.PyPipeline.__cinit__\u001b[0;34m()\u001b[0m\n",
      "\u001b[0;31mRuntimeError\u001b[0m: Array without fields must have 3 dimensions."
     ]
    }
   ],
   "source": [
    "print(c1.shape)\n",
    "write_to_laz(c1, '/var/data/rws/data/output/tst_portal_c1.laz')\n",
    "print(c2.shape)\n",
    "write_to_laz(c2, '/var/data/rws/data/output/tst_portal_c2.laz')\n",
    "print('done')"
   ]
  },
  {
   "cell_type": "code",
   "execution_count": 26,
   "metadata": {
    "scrolled": true
   },
   "outputs": [
    {
     "ename": "SyntaxError",
     "evalue": "invalid syntax (<ipython-input-26-89eca175caa0>, line 1)",
     "output_type": "error",
     "traceback": [
      "\u001b[0;36m  File \u001b[0;32m\"<ipython-input-26-89eca175caa0>\"\u001b[0;36m, line \u001b[0;32m1\u001b[0m\n\u001b[0;31m    pyntcloud.scalar_fields.PlaneFit(*, pyntcloud, max_dist=0.0001,\u001b[0m\n\u001b[0m                                      ^\u001b[0m\n\u001b[0;31mSyntaxError\u001b[0m\u001b[0;31m:\u001b[0m invalid syntax\n"
     ]
    }
   ],
   "source": [
    "pyntcloud.scalar_fields.PlaneFit(*, pyntcloud, max_dist=0.0001,\n",
    "max_iterations=100, n_inliers_to_stop=None)"
   ]
  },
  {
   "cell_type": "code",
   "execution_count": 21,
   "metadata": {},
   "outputs": [],
   "source": [
    "# print(c2.shape)\n",
    "write_to_laz(pc1, '/var/data/rws/data/output/tst_portal_c2.laz')"
   ]
  },
  {
   "cell_type": "code",
   "execution_count": 25,
   "metadata": {},
   "outputs": [
    {
     "data": {
      "text/plain": [
       "numpy.ndarray"
      ]
     },
     "execution_count": 25,
     "metadata": {},
     "output_type": "execute_result"
    }
   ],
   "source": [
    "type(pc1)"
   ]
  },
  {
   "cell_type": "code",
   "execution_count": null,
   "metadata": {},
   "outputs": [],
   "source": []
  }
 ],
 "metadata": {
  "kernelspec": {
   "display_name": "Python 3",
   "language": "python",
   "name": "python3"
  },
  "language_info": {
   "codemirror_mode": {
    "name": "ipython",
    "version": 3
   },
   "file_extension": ".py",
   "mimetype": "text/x-python",
   "name": "python",
   "nbconvert_exporter": "python",
   "pygments_lexer": "ipython3",
   "version": "3.7.3"
  }
 },
 "nbformat": 4,
 "nbformat_minor": 2
}
