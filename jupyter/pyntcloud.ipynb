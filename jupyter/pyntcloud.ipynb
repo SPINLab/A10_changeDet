{
 "cells": [
  {
   "cell_type": "code",
   "execution_count": 2,
   "metadata": {},
   "outputs": [],
   "source": [
    "import pandas as pd\n",
    "from pyntcloud import PyntCloud\n",
    "import numpy as np\n",
    "import pdal\n",
    "import shapely.wkt"
   ]
  },
  {
   "cell_type": "code",
   "execution_count": 11,
   "metadata": {},
   "outputs": [],
   "source": [
    "def get_points(ept_path, bounds, wkt):\n",
    "    \n",
    "    READ_PIPELINE = \"\"\"\n",
    "                    {{\n",
    "                        \"pipeline\": [\n",
    "                            {{\n",
    "                                \"type\": \"readers.ept\",\n",
    "                                \"filename\": \"{path}\",\n",
    "                                \"bounds\": \"{bounds}\"\n",
    "                            }},\n",
    "                            {{\n",
    "                                \"type\":\"filters.crop\",\n",
    "                                \"polygon\":\"{wkt}\"\n",
    "                            }}\n",
    "                        ]\n",
    "                    }}\n",
    "                    \"\"\"\n",
    "    \n",
    "    pipeline = pdal.Pipeline(READ_PIPELINE.format(\n",
    "        path=ept_path,\n",
    "        bounds=bounds,\n",
    "        wkt=wkt)\n",
    "    )\n",
    "\n",
    "    pipeline.validate()\n",
    "    pipeline.execute()\n",
    "    point_cloud = pipeline.arrays[0]\n",
    "\n",
    "    return point_cloud\n",
    "\n",
    "\n",
    "\n",
    "def write_to_laz(point_cloud, path):\n",
    "    \n",
    "    WRITE_PIPELINE = \"\"\"\n",
    "    {{\n",
    "        \"pipeline\": [\n",
    "            {{\n",
    "                \"type\": \"writers.las\",\n",
    "                \"filename\": \"{path}\",\n",
    "                \"extra_dims\": \"all\"\n",
    "            }}\n",
    "        ]\n",
    "    }}\n",
    "    \"\"\"\n",
    "    pipeline = pdal.Pipeline(\n",
    "        WRITE_PIPELINE.format(path=path),\n",
    "        arrays=[point_cloud]\n",
    "    )\n",
    "    pipeline.validate()\n",
    "    pipeline.execute()\n"
   ]
  },
  {
   "cell_type": "code",
   "execution_count": 5,
   "metadata": {},
   "outputs": [
    {
     "name": "stdout",
     "output_type": "stream",
     "text": [
      "loaded pc 1\n"
     ]
    }
   ],
   "source": [
    "test_area = [117813.6,487266.1,117942.1,487370.7]\n",
    "xmin,ymin,xmax,ymax = test_area\n",
    "\n",
    "path_a10_2018 = '/var/data/rws/data/2018/entwined/ept.json'\n",
    "path_a10_2019 = '/var/data/rws/data/2019/amsterdam_entwined/ept.json'\n",
    "\n",
    "# wkt = 'POLYGON((117813.6 487266.1,117813.6 487370.7,117942.1 487370.7,117942.1 487266.1,117813.6 487266.1))'\n",
    "# wkt_small = 'POLYGON((117813 487266,117813 487270,117815 487270,117815 487266,117813 487266))'\n",
    "wkt_poral = 'POLYGON((118032.6 488782.8,118032.6 488793.5,118078.8 488793.5,118078.8 488782.8,118032.6 488782.8))'\n",
    "xmin,ymin,xmax,ymax = shapely.wkt.loads(wkt_poral).bounds\n",
    "\n",
    "bounds = f'([{xmin}, {xmax}], [{ymin}, {ymax}])'\n",
    "pc1 = get_points(path_a10_2018, bounds, wkt_poral)\n",
    "print(f'loaded pc 1')"
   ]
  },
  {
   "cell_type": "code",
   "execution_count": null,
   "metadata": {},
   "outputs": [],
   "source": [
    "pcdf = pd.DataFrame(np.array(pc1[['X','Y','Z','Red','Green','Blue']].tolist()), \n",
    "            columns=['x', 'y', 'z','red','green','blue'])\n",
    "\n"
   ]
  },
  {
   "cell_type": "code",
   "execution_count": null,
   "metadata": {},
   "outputs": [],
   "source": [
    "pcdf = pd.DataFrame(np.array(pc1[['X','Y','Z']].tolist()), \n",
    "            columns=['x', 'y', 'z'])\n",
    "\n"
   ]
  },
  {
   "cell_type": "code",
   "execution_count": null,
   "metadata": {},
   "outputs": [],
   "source": [
    "py = PyntCloud(pcdf)\n",
    "# py.plot(mesh=True, backend=\"threejs\")\n",
    "\n",
    "py"
   ]
  },
  {
   "cell_type": "code",
   "execution_count": null,
   "metadata": {},
   "outputs": [],
   "source": [
    "# py_cloud = py.get_sample(\"mesh_random\", \n",
    "#                          n=100000, \n",
    "#                          rgb=True)#, \n",
    "#                          #as_PyntCloud=True)\n",
    "    \n",
    "# scene = py_cloud.plot(return_scene=True)"
   ]
  },
  {
   "cell_type": "code",
   "execution_count": 6,
   "metadata": {},
   "outputs": [],
   "source": [
    "import numpy as np\n",
    "import pandas as pd\n",
    "import matplotlib\n",
    "pd.options.mode.chained_assignment = None  # default='warn'\n",
    "import warnings\n",
    "warnings.simplefilter(action='ignore', category=FutureWarning)\n",
    "\n",
    "from pyntcloud import PyntCloud\n",
    "from sklearn.cluster import DBSCAN\n",
    "\n",
    "\n",
    "min_size = 3\n",
    "ransac_distance = 0.2\n",
    "ransac_iterations = 1000\n",
    "dbscan_distance = 1\n",
    "dbscan_min_samples = 8\n",
    "\n",
    "\n",
    "points = pd.DataFrame(\n",
    "    np.array(pc1[['X','Y','Z']].tolist()), \n",
    "    columns=['x', 'y', 'z']\n",
    ")\n",
    "\n",
    "# points = np.array((x, y, z)).T\n",
    "# points=pd.DataFrame(points,columns=['x','y','z'])\n",
    "roof = PyntCloud(points)\n",
    "#plpy.warning('Roofpoints in: ',len(roof.points))\n",
    "\n",
    "eps1 = 1.2\n",
    "min_size1 = 8\n",
    "eps2 = 0.8\n",
    "min_size2 = 6"
   ]
  },
  {
   "cell_type": "code",
   "execution_count": 7,
   "metadata": {},
   "outputs": [],
   "source": [
    "def find_clusters(points, eps, min_samples):\n",
    "    df = points[[\"x\", \"y\",\"z\"]]\n",
    "    db = DBSCAN(eps=eps, min_samples=min_samples)\n",
    "    dbsc = db.fit(df)\n",
    "    labels = dbsc.labels_\n",
    "    core_samples = np.zeros_like(labels, dtype = bool)\n",
    "    core_samples[dbsc.core_sample_indices_] = True\n",
    "    points[\"coresample\"]= core_samples\n",
    "    points[\"cluster\"] = dbsc.labels_\n",
    "    return points\n",
    "\n",
    "def find_plane(points):\n",
    "    pointcloud = PyntCloud(points)\n",
    "    pointcloud.add_scalar_field(\"plane_fit\",max_dist=ransac_distance, max_iterations=ransac_iterations, n_inliers_to_stop=None)\n",
    "    inliers = pointcloud.points[pointcloud.points.is_plane == 1]\n",
    "    outliers = pointcloud.points[pointcloud.points.is_plane == 0]\n",
    "    return inliers, outliers\n",
    "\n",
    "global planes\n",
    "planes=pd.DataFrame(columns=['x','y','z','cid'])\n",
    "def recurse(roof,cid):\n",
    "    global planes\n",
    "    #plpy.warning('Iter ',cid,' with ',len(roof.points),'points')\n",
    "    rest=pd.DataFrame(columns=['x','y','z'])\n",
    "    \n",
    "    points = find_clusters(roof.points,eps1,min_size1) #split clusters and remove garbage\n",
    "    clusters = points[(points.cluster >= 0)]\n",
    "    _ = points[(points.cluster < 0)]\n",
    "    counts = np.bincount(clusters['cluster'])\n",
    "    #max = np.argmax(counts)\n",
    "    #maxcluster = clusters[clusters.cluster == max]\n",
    "    #restcluster = clusters[clusters.cluster != max]\n",
    "    \n",
    "    if len(clusters) > 0:\n",
    "      planeinliers, planeoutliers = find_plane(clusters) #find best plane, keep remainder\n",
    "      \n",
    "      points = find_clusters(planeinliers,eps2,min_size2) #split plane in possible clusters, keep remainder\n",
    "      clusterinliers = points[(points.cluster >= 0) & (points.coresample == True)]\n",
    "      clusteroutliers = points[(points.cluster < 0) | ((points.cluster < 0) & (points.coresample == False))]\n",
    "\n",
    "      rest = pd.concat([rest,planeoutliers,clusteroutliers]) #keep all remainders for further use\n",
    "      if len(clusterinliers) > min_size:\n",
    "          #print(' ',clusterinliers['cluster'].max() + 1, 'clusters will be added')\n",
    "          for name, group in clusterinliers.groupby('cluster'): \n",
    "              cid = cid + 1\n",
    "              group['cid'] = cid #assign a value to the newly found cluster\n",
    "              planes = pd.concat([planes,group]) #add to the plane stack\n",
    "    else:\n",
    "      return\n",
    "    #plpy.warning('Number of rest points: ', len(rest))\n",
    "    if len(rest) <= min_size or cid > 100 or len(rest) == len(roof.points):\n",
    "      return\n",
    "    else:\n",
    "      recurse(PyntCloud(rest),cid)"
   ]
  },
  {
   "cell_type": "code",
   "execution_count": 8,
   "metadata": {},
   "outputs": [],
   "source": [
    "roof.points[\"cid\"] = -1\n",
    "recurse(roof,0)\n",
    "points = np.array((planes['x'], planes['y'],planes['z'],planes['cid'])).T\n",
    "\n"
   ]
  },
  {
   "cell_type": "code",
   "execution_count": 25,
   "metadata": {},
   "outputs": [
    {
     "name": "stdout",
     "output_type": "stream",
     "text": [
      "(array([1, 2, 3, 4, 5, 6, 7, 8, 9, 10, 11, 12, 13, 14, 15, 16, 17, 18, 19,\n",
      "       20, 21, 22, 23, 24, 25, 26, 27, 28, 29, 30, 31, 32, 33, 34, 35, 36,\n",
      "       37, 38, 39, 40, 41, 42, 43, 44, 45, 46, 47, 48, 49, 50, 51, 52, 53,\n",
      "       54, 55, 56, 57, 58, 59, 60, 61, 62, 63, 64, 65, 66, 67, 68, 69, 70,\n",
      "       71, 72, 73, 74, 75, 76, 77, 78, 79, 80, 81, 82, 83, 84, 85, 86, 87,\n",
      "       88, 89, 90, 91, 92, 93, 94, 95, 96, 97, 98, 99, 100, 101, 102],\n",
      "      dtype=object), array([231183, 231114,  61879,  40769,   1723,      7,   1088,    634,\n",
      "          448,     15,    390,    684,    149,    829,    515,     22,\n",
      "           16,      4,   9434,   8011,   2508,  11133,   7600,    428,\n",
      "          974,   3710,     13,   3899,   9078,   1497,   8154,    611,\n",
      "          400,   1362,    209,    269,  12607,   5298,      3,     39,\n",
      "           28,     42,     27,     23,     18,     13,     13,     22,\n",
      "           28,      7,      6,    142,    140,     61,      8,     20,\n",
      "           50,     14,    116,   8248,     17,   1872,    251,     38,\n",
      "          131,     65,     60,     13,     58,     13,    815,    868,\n",
      "         1433,    878,   1110,   1255,      7,    140,     11,     42,\n",
      "           11,     45,      7,    126,     56,    232,     59,     30,\n",
      "           25,     11,     11,     64,     16,   2526,    764,   1230,\n",
      "          457,    191,     76,      1,    114,    613]))\n"
     ]
    }
   ],
   "source": [
    "print(np.unique(planes['cid'], return_counts =True))\n",
    "c1 = points[points[:,3] == 1][:,0:3]\n",
    "c2 = points[points[:,3] == 2][:,0:3]\n"
   ]
  },
  {
   "cell_type": "code",
   "execution_count": 33,
   "metadata": {},
   "outputs": [
    {
     "name": "stdout",
     "output_type": "stream",
     "text": [
      "(3, 231183)\n"
     ]
    },
    {
     "ename": "RuntimeError",
     "evalue": "Array without fields must have 3 dimensions.",
     "output_type": "error",
     "traceback": [
      "\u001b[0;31m---------------------------------------------------------------------------\u001b[0m",
      "\u001b[0;31mRuntimeError\u001b[0m                              Traceback (most recent call last)",
      "\u001b[0;32m<ipython-input-33-2866c42a92d6>\u001b[0m in \u001b[0;36m<module>\u001b[0;34m\u001b[0m\n\u001b[1;32m      1\u001b[0m \u001b[0mprint\u001b[0m\u001b[0;34m(\u001b[0m\u001b[0mc1\u001b[0m\u001b[0;34m.\u001b[0m\u001b[0mT\u001b[0m\u001b[0;34m.\u001b[0m\u001b[0mshape\u001b[0m\u001b[0;34m)\u001b[0m\u001b[0;34m\u001b[0m\u001b[0;34m\u001b[0m\u001b[0m\n\u001b[0;32m----> 2\u001b[0;31m \u001b[0mwrite_to_laz\u001b[0m\u001b[0;34m(\u001b[0m\u001b[0mc1\u001b[0m\u001b[0;34m,\u001b[0m \u001b[0;34m'/var/data/rws/data/output/tst_portal_c1.laz'\u001b[0m\u001b[0;34m)\u001b[0m\u001b[0;34m\u001b[0m\u001b[0;34m\u001b[0m\u001b[0m\n\u001b[0m\u001b[1;32m      3\u001b[0m \u001b[0mprint\u001b[0m\u001b[0;34m(\u001b[0m\u001b[0mc2\u001b[0m\u001b[0;34m.\u001b[0m\u001b[0mshape\u001b[0m\u001b[0;34m)\u001b[0m\u001b[0;34m\u001b[0m\u001b[0;34m\u001b[0m\u001b[0m\n\u001b[1;32m      4\u001b[0m \u001b[0mwrite_to_laz\u001b[0m\u001b[0;34m(\u001b[0m\u001b[0mc2\u001b[0m\u001b[0;34m,\u001b[0m \u001b[0;34m'/var/data/rws/data/output/tst_portal_c2.laz'\u001b[0m\u001b[0;34m)\u001b[0m\u001b[0;34m\u001b[0m\u001b[0;34m\u001b[0m\u001b[0m\n\u001b[1;32m      5\u001b[0m \u001b[0mprint\u001b[0m\u001b[0;34m(\u001b[0m\u001b[0;34m'done'\u001b[0m\u001b[0;34m)\u001b[0m\u001b[0;34m\u001b[0m\u001b[0;34m\u001b[0m\u001b[0m\n",
      "\u001b[0;32m<ipython-input-11-7a03aef20c03>\u001b[0m in \u001b[0;36mwrite_to_laz\u001b[0;34m(point_cloud, path)\u001b[0m\n\u001b[1;32m     46\u001b[0m     pipeline = pdal.Pipeline(\n\u001b[1;32m     47\u001b[0m         \u001b[0mWRITE_PIPELINE\u001b[0m\u001b[0;34m.\u001b[0m\u001b[0mformat\u001b[0m\u001b[0;34m(\u001b[0m\u001b[0mpath\u001b[0m\u001b[0;34m=\u001b[0m\u001b[0mpath\u001b[0m\u001b[0;34m)\u001b[0m\u001b[0;34m,\u001b[0m\u001b[0;34m\u001b[0m\u001b[0;34m\u001b[0m\u001b[0m\n\u001b[0;32m---> 48\u001b[0;31m         \u001b[0marrays\u001b[0m\u001b[0;34m=\u001b[0m\u001b[0;34m[\u001b[0m\u001b[0mpoint_cloud\u001b[0m\u001b[0;34m]\u001b[0m\u001b[0;34m\u001b[0m\u001b[0;34m\u001b[0m\u001b[0m\n\u001b[0m\u001b[1;32m     49\u001b[0m     )\n\u001b[1;32m     50\u001b[0m     \u001b[0mpipeline\u001b[0m\u001b[0;34m.\u001b[0m\u001b[0mvalidate\u001b[0m\u001b[0;34m(\u001b[0m\u001b[0;34m)\u001b[0m\u001b[0;34m\u001b[0m\u001b[0;34m\u001b[0m\u001b[0m\n",
      "\u001b[0;32m/usr/local/lib/python3.7/dist-packages/pdal/pipeline.py\u001b[0m in \u001b[0;36m__init__\u001b[0;34m(self, json, arrays)\u001b[0m\n\u001b[1;32m     10\u001b[0m \u001b[0;34m\u001b[0m\u001b[0m\n\u001b[1;32m     11\u001b[0m         \u001b[0;32mif\u001b[0m \u001b[0marrays\u001b[0m\u001b[0;34m:\u001b[0m\u001b[0;34m\u001b[0m\u001b[0;34m\u001b[0m\u001b[0m\n\u001b[0;32m---> 12\u001b[0;31m             \u001b[0mself\u001b[0m\u001b[0;34m.\u001b[0m\u001b[0mp\u001b[0m \u001b[0;34m=\u001b[0m \u001b[0mlibpdalpython\u001b[0m\u001b[0;34m.\u001b[0m\u001b[0mPyPipeline\u001b[0m\u001b[0;34m(\u001b[0m\u001b[0mjson\u001b[0m\u001b[0;34m,\u001b[0m \u001b[0marrays\u001b[0m\u001b[0;34m)\u001b[0m\u001b[0;34m\u001b[0m\u001b[0;34m\u001b[0m\u001b[0m\n\u001b[0m\u001b[1;32m     13\u001b[0m         \u001b[0;32melse\u001b[0m\u001b[0;34m:\u001b[0m\u001b[0;34m\u001b[0m\u001b[0;34m\u001b[0m\u001b[0m\n\u001b[1;32m     14\u001b[0m             \u001b[0mself\u001b[0m\u001b[0;34m.\u001b[0m\u001b[0mp\u001b[0m \u001b[0;34m=\u001b[0m \u001b[0mlibpdalpython\u001b[0m\u001b[0;34m.\u001b[0m\u001b[0mPyPipeline\u001b[0m\u001b[0;34m(\u001b[0m\u001b[0mjson\u001b[0m\u001b[0;34m)\u001b[0m\u001b[0;34m\u001b[0m\u001b[0;34m\u001b[0m\u001b[0m\n",
      "\u001b[0;32mpdal/libpdalpython.pyx\u001b[0m in \u001b[0;36mpdal.libpdalpython.PyPipeline.__cinit__\u001b[0;34m()\u001b[0m\n",
      "\u001b[0;31mRuntimeError\u001b[0m: Array without fields must have 3 dimensions."
     ]
    }
   ],
   "source": [
    "print(c1.shape)\n",
    "write_to_laz(c1, '/var/data/rws/data/output/tst_portal_c1.laz')\n",
    "print(c2.shape)\n",
    "write_to_laz(c2, '/var/data/rws/data/output/tst_portal_c2.laz')\n",
    "print('done')"
   ]
  },
  {
   "cell_type": "code",
   "execution_count": 26,
   "metadata": {},
   "outputs": [
    {
     "ename": "SyntaxError",
     "evalue": "invalid syntax (<ipython-input-26-89eca175caa0>, line 1)",
     "output_type": "error",
     "traceback": [
      "\u001b[0;36m  File \u001b[0;32m\"<ipython-input-26-89eca175caa0>\"\u001b[0;36m, line \u001b[0;32m1\u001b[0m\n\u001b[0;31m    pyntcloud.scalar_fields.PlaneFit(*, pyntcloud, max_dist=0.0001,\u001b[0m\n\u001b[0m                                      ^\u001b[0m\n\u001b[0;31mSyntaxError\u001b[0m\u001b[0;31m:\u001b[0m invalid syntax\n"
     ]
    }
   ],
   "source": [
    "pyntcloud.scalar_fields.PlaneFit(*, pyntcloud, max_dist=0.0001,\n",
    "max_iterations=100, n_inliers_to_stop=None)"
   ]
  },
  {
   "cell_type": "code",
   "execution_count": 27,
   "metadata": {},
   "outputs": [
    {
     "name": "stdout",
     "output_type": "stream",
     "text": [
      "hi\n"
     ]
    }
   ],
   "source": [
    "print('hi')"
   ]
  },
  {
   "cell_type": "code",
   "execution_count": null,
   "metadata": {},
   "outputs": [],
   "source": []
  }
 ],
 "metadata": {
  "kernelspec": {
   "display_name": "Python 3",
   "language": "python",
   "name": "python3"
  },
  "language_info": {
   "codemirror_mode": {
    "name": "ipython",
    "version": 3
   },
   "file_extension": ".py",
   "mimetype": "text/x-python",
   "name": "python",
   "nbconvert_exporter": "python",
   "pygments_lexer": "ipython3",
   "version": "3.7.3"
  }
 },
 "nbformat": 4,
 "nbformat_minor": 2
}
